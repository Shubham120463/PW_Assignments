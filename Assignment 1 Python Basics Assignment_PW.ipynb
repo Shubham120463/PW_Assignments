{
 "cells": [
  {
   "cell_type": "markdown",
   "id": "e568680c-662a-468a-b77e-c81007cb54ef",
   "metadata": {
    "jp-MarkdownHeadingCollapsed": true,
    "jupyter": {
     "source_hidden": true
    }
   },
   "source": [
    "# Explain the Key features of Python that make it a popular choice for programming."
   ]
  },
  {
   "cell_type": "markdown",
   "id": "bf5ff32f-c15e-4967-aa83-8aedcc0f718d",
   "metadata": {},
   "source": [
    "- Highly demanding : High demand in IT industry specifically in development and AI\n",
    "- Free and open source : No License or registration is required to access it.\n",
    "- Easy to code : Since it have in-built libraries so no need to arrange multiple library files.\n",
    "- Easy to Read : Python's syntax is based on English words and grammatical structure, making it more accessible to beginners.\n",
    "- Indentation: Python uses indentation (whitespace) to define code blocks.\n",
    "- Object Oriented Programming Language\n",
    "- Easy to debug : Python can be easy to debug with the help of various tools and integrated development environments (IDEs) like - Pycharm, Jupyter Notebook, VS Code, etc."
   ]
  },
  {
   "cell_type": "markdown",
   "id": "9440c7ae-9bc4-4fff-acc3-df4eefa225e3",
   "metadata": {
    "jp-MarkdownHeadingCollapsed": true
   },
   "source": [
    "# Describe the role of pre-defined keywords in python and provide examples of how they are used in a program."
   ]
  },
  {
   "cell_type": "markdown",
   "id": "34e273f2-d493-42d5-b02c-a81fa4071f52",
   "metadata": {},
   "source": [
    "### Predefined keywords in Python are used to specify the syntax of coding.\n",
    "Predefined Keywords are :"
   ]
  },
  {
   "cell_type": "code",
   "execution_count": 33,
   "id": "e82fa27d-de5e-4de7-966d-77574302b60c",
   "metadata": {},
   "outputs": [
    {
     "name": "stdout",
     "output_type": "stream",
     "text": [
      "\n",
      "Here is a list of the Python keywords.  Enter any keyword to get more help.\n",
      "\n",
      "False               class               from                or\n",
      "None                continue            global              pass\n",
      "True                def                 if                  raise\n",
      "and                 del                 import              return\n",
      "as                  elif                in                  try\n",
      "assert              else                is                  while\n",
      "async               except              lambda              with\n",
      "await               finally             nonlocal            yield\n",
      "break               for                 not                 \n",
      "\n"
     ]
    }
   ],
   "source": [
    "help(\"keywords\")"
   ]
  },
  {
   "cell_type": "code",
   "execution_count": 18,
   "id": "fa4ffd63-0159-4f79-ae24-b77673ff1230",
   "metadata": {},
   "outputs": [
    {
     "name": "stdout",
     "output_type": "stream",
     "text": [
      "Hello world     Hello world     Hello world     Hello world     "
     ]
    }
   ],
   "source": [
    "# A function to print hello world by variable number of times using def, for keywords\n",
    "def func(n):                                  #def keyword           \n",
    "    a=3\n",
    "    for a in range(1, n+1):                   #for keyword\n",
    "        print(\"Hello world\", end=\"     \")\n",
    "func(4)"
   ]
  },
  {
   "cell_type": "code",
   "execution_count": 40,
   "id": "81b573eb-0792-47f7-98ff-6f5fcaa65679",
   "metadata": {},
   "outputs": [
    {
     "name": "stdout",
     "output_type": "stream",
     "text": [
      "False\n",
      "True\n",
      "False\n",
      "True\n",
      "Not True\n"
     ]
    }
   ],
   "source": [
    "a = True\n",
    "b = False\n",
    "print(a and b)                    #and keyword\n",
    "print(a or b)                     #or keyword\n",
    "print(not a)                      #not keyword\n",
    "print(5 in [1, 2, 3, 4, 5])       #in keyword\n",
    "if a is b:                        #is, if, else keyword\n",
    "    print(\"True\")\n",
    "else:\n",
    "    print(\"Not True\")"
   ]
  },
  {
   "cell_type": "code",
   "execution_count": 19,
   "id": "f3e7aa65-ed21-4a11-943a-f55d72fe10a0",
   "metadata": {},
   "outputs": [
    {
     "name": "stdout",
     "output_type": "stream",
     "text": [
      "1 2 3 4 "
     ]
    }
   ],
   "source": [
    "# Code to show uses of break keyword\n",
    "n=10\n",
    "i=1\n",
    "while i<n:\n",
    "    print(i, end=\" \")\n",
    "    i=i+1\n",
    "    if i==5:\n",
    "        break                    #break will stop the loop if its condition becomes true\n",
    "else:\n",
    "    print(\"if while loop completes successfully without any break\")"
   ]
  },
  {
   "cell_type": "code",
   "execution_count": 23,
   "id": "2fd7523b-22da-4a51-a051-bf52548c3e73",
   "metadata": {},
   "outputs": [
    {
     "name": "stdout",
     "output_type": "stream",
     "text": [
      "1 2 2 2 3 3 3 4 4 4 5 5 6 6 6 7 7 7 8 8 8 9 9 9 10 10 if while loop completes successfully without any break\n"
     ]
    }
   ],
   "source": [
    "# Code to show uses of continue keyword\n",
    "n=10\n",
    "i=1\n",
    "while i<n:\n",
    "    print(i, end=\" \")\n",
    "    i=i+1\n",
    "    print(i, end=\" \")\n",
    "    if i==5:\n",
    "        continue                    #continue will stop the iteration if its condition becomes true\n",
    "    print(i, end=\" \")\n",
    "else:\n",
    "    print(\"if while loop completes successfully without any break\")"
   ]
  },
  {
   "cell_type": "markdown",
   "id": "f0945478-ae99-40a4-a274-6db1aa805715",
   "metadata": {
    "jp-MarkdownHeadingCollapsed": true
   },
   "source": [
    "# Compare and contrast mutable and immutable objects in Python with examples"
   ]
  },
  {
   "cell_type": "markdown",
   "id": "10d73e86-5fb3-4981-8d79-f1445d44883e",
   "metadata": {},
   "source": [
    "#### Mutable Objects can be changed after creation. ex : list, sets, dictionaries."
   ]
  },
  {
   "cell_type": "code",
   "execution_count": 15,
   "id": "4bfd6071-02e5-4a44-9cad-5b7b791d45ee",
   "metadata": {},
   "outputs": [
    {
     "data": {
      "text/plain": [
       "[1, 2, 'st', 'Shubham Tyagi', 'animal', 6, 4]"
      ]
     },
     "execution_count": 15,
     "metadata": {},
     "output_type": "execute_result"
    }
   ],
   "source": [
    "# Code to show mutable objects using list\n",
    "b_list = [1,2,\"st\",\"Shu\",\"animal\",6,4]\n",
    "b_list[3]=\"Shubham Tyagi\"\n",
    "b_list"
   ]
  },
  {
   "cell_type": "markdown",
   "id": "b0eb0328-64da-44a1-980a-ad4234a5c626",
   "metadata": {},
   "source": [
    "#### Immutable objects can not be modified after creation. ex : numbers, strings and tuples. "
   ]
  },
  {
   "cell_type": "code",
   "execution_count": 16,
   "id": "4c7b8f18-4b6b-4758-a770-a9ed212828ad",
   "metadata": {},
   "outputs": [
    {
     "ename": "TypeError",
     "evalue": "'str' object does not support item assignment",
     "output_type": "error",
     "traceback": [
      "\u001b[1;31m---------------------------------------------------------------------------\u001b[0m",
      "\u001b[1;31mTypeError\u001b[0m                                 Traceback (most recent call last)",
      "Cell \u001b[1;32mIn[16], line 3\u001b[0m\n\u001b[0;32m      1\u001b[0m \u001b[38;5;66;03m# Code to show immutable objects using string\u001b[39;00m\n\u001b[0;32m      2\u001b[0m message \u001b[38;5;241m=\u001b[39m \u001b[38;5;124m\"\u001b[39m\u001b[38;5;124mThis code is for immutable objects testing\u001b[39m\u001b[38;5;124m\"\u001b[39m\n\u001b[1;32m----> 3\u001b[0m message[\u001b[38;5;241m2\u001b[39m] \u001b[38;5;241m=\u001b[39m \u001b[38;5;124m\"\u001b[39m\u001b[38;5;124mare\u001b[39m\u001b[38;5;124m\"\u001b[39m\n\u001b[0;32m      4\u001b[0m \u001b[38;5;28mprint\u001b[39m(\u001b[38;5;124m\"\u001b[39m\u001b[38;5;124mmessage\u001b[39m\u001b[38;5;124m\"\u001b[39m)\n",
      "\u001b[1;31mTypeError\u001b[0m: 'str' object does not support item assignment"
     ]
    }
   ],
   "source": [
    "# Code to show immutable objects using string\n",
    "message = \"This code is for immutable objects testing\"\n",
    "message[2] = \"are\"\n",
    "print(\"message\")"
   ]
  },
  {
   "cell_type": "markdown",
   "id": "04541cfd-1200-43a9-b83d-f2d744c0bad3",
   "metadata": {
    "jp-MarkdownHeadingCollapsed": true
   },
   "source": [
    "# Discuss the different types of operators in Python and provide examples of how they are used."
   ]
  },
  {
   "cell_type": "markdown",
   "id": "368af72f-3d5d-4f45-9099-27f2add2bc3a",
   "metadata": {
    "jp-MarkdownHeadingCollapsed": true
   },
   "source": [
    "### Python language supports various types of operators, which are:\n",
    "- Arithmetic Operators\n",
    "- Comparison (Relational) Operators\n",
    "- Assignment Operators\n",
    "- Logical Operators\n",
    "- Bitwise Operators\n",
    "- Membership Operators\n",
    "- Identity Operators"
   ]
  },
  {
   "cell_type": "code",
   "execution_count": 15,
   "id": "df61aee3-4d80-4a5c-9196-bbafcccf2fdd",
   "metadata": {},
   "outputs": [
    {
     "name": "stdout",
     "output_type": "stream",
     "text": [
      "9 -1 20 1.25 1 1024 1\n"
     ]
    }
   ],
   "source": [
    "# Code to show uses of Arithmetic Operators in Python\n",
    "a=4\n",
    "b=5\n",
    "c=6\n",
    "x=a+b                #Addition\n",
    "y=a-b                #Subtraction\n",
    "z=a*b                #Multiplication\n",
    "i=b/a                #Division\n",
    "j=b%a                #Modulo\n",
    "k=a**b               #Exponential\n",
    "l=b//a               #Floor Division\n",
    "print(x,y,z,i,j,k,l)"
   ]
  },
  {
   "cell_type": "code",
   "execution_count": 17,
   "id": "6e836c65-a305-4bc1-b029-207762a2b9a3",
   "metadata": {},
   "outputs": [
    {
     "name": "stdout",
     "output_type": "stream",
     "text": [
      "a == b :  False\n",
      "a != b :  True\n",
      "a > b :  False\n",
      "a < b :  True\n",
      "a >= b :  False\n",
      "a <= b :  True\n"
     ]
    }
   ],
   "source": [
    "# Code to show uses of Comparison (Relational) Operators\n",
    "a = 4\n",
    "b = 5\n",
    "print (\"a == b : \", a == b)            #Equal Operator\n",
    "print (\"a != b : \", a != b)            # Not Equal Operator\n",
    "print (\"a > b : \", a > b)              # Greater Than Operator\n",
    "print (\"a < b : \", a < b)              # Less Than Operator\n",
    "print (\"a >= b : \", a >= b)            # Greater Than or Equal to Operator\n",
    "print (\"a <= b : \", a <= b)            # Less Than or Equal to Operator"
   ]
  },
  {
   "cell_type": "code",
   "execution_count": 19,
   "id": "b03e7780-73c4-462d-ac3e-cb4d6b68df92",
   "metadata": {},
   "outputs": [
    {
     "name": "stdout",
     "output_type": "stream",
     "text": [
      "a += 5 :  15\n",
      "a -= 5 :  10\n",
      "a *= 5 :  50\n",
      "a /= 5 :  10.0\n",
      "a %= 3 :  1.0\n",
      "a **= 2 :  1.0\n",
      "a //= 3 :  0.0\n"
     ]
    }
   ],
   "source": [
    "# Code to show uses of Assignment Operators\n",
    "a = 10                       #Assignment Operator\n",
    "a += 5                       # Addition Assignment\n",
    "print (\"a += 5 : \", a)       \n",
    "a -= 5                       # Subtraction Assignment\n",
    "print (\"a -= 5 : \", a)       \n",
    "a *= 5                       # Multiplication Assignment\n",
    "print (\"a *= 5 : \", a)       \n",
    "a /= 5                       # Division Assignment\n",
    "print (\"a /= 5 : \",a)\n",
    "a %= 3                       # Remainder Assignment\n",
    "print (\"a %= 3 : \", a)\n",
    "a **= 2                      # Exponent Assignment\n",
    "print (\"a **= 2 : \", a)\n",
    "a //= 3                      # Floor Division Assignment\n",
    "print (\"a //= 3 : \", a)"
   ]
  },
  {
   "cell_type": "code",
   "execution_count": 23,
   "id": "2f5464c1-31a0-46d4-a7d4-797bd11bd42c",
   "metadata": {},
   "outputs": [
    {
     "name": "stdout",
     "output_type": "stream",
     "text": [
      "Both x and y are within the specified range\n",
      "5\n",
      "True\n"
     ]
    }
   ],
   "source": [
    "# Code to show uses of Logical Operators\n",
    "x = 5\n",
    "y = 10\n",
    "if x > 3 and y < 15:                           #AND logical Operator\n",
    "  print(\"Both x and y are within the specified range\")\n",
    "print (a or b)                                 #OR Logical Operator\n",
    "print (not (a and b))                          #NOT logical Operator"
   ]
  },
  {
   "cell_type": "code",
   "execution_count": 24,
   "id": "16ded8dc-f894-4fdc-84ac-b4ca6bfa3ad9",
   "metadata": {},
   "outputs": [
    {
     "name": "stdout",
     "output_type": "stream",
     "text": [
      "a & b :  12\n",
      "a | b :  61\n",
      "a ^ b :  49\n",
      "~a :  -61\n",
      "a << 2 :  240\n",
      "a >> 2 :  15\n"
     ]
    }
   ],
   "source": [
    "# Code to show uses of Bitwise Operator\n",
    "a = 60                         # 60 = 0011 1100\n",
    "b = 13                         # 13 = 0000 1101\n",
    "# Binary AND\n",
    "c = a & b                      # 12 = 0000 1100\n",
    "print (\"a & b : \", c)\n",
    "# Binary OR\n",
    "c = a | b                      # 61 = 0011 1101\n",
    "print (\"a | b : \", c)\n",
    "# Binary XOR\n",
    "c = a ^ b                      # 49 = 0011 0001\n",
    "print (\"a ^ b : \", c)\n",
    "# Binary Ones Complement\n",
    "c = ~a;                        # -61 = 1100 0011\n",
    "print (\"~a : \", c)\n",
    "# Binary Left Shift\n",
    "c = a << 2;                    # 240 = 1111 0000\n",
    "print (\"a << 2 : \", c)\n",
    "# Binary Right Shift\n",
    "c = a >> 2;                    # 15 = 0000 1111\n",
    "print (\"a >> 2 : \", c)"
   ]
  },
  {
   "cell_type": "code",
   "execution_count": 29,
   "id": "41ff733e-463a-49e0-80da-48ffa68a08c2",
   "metadata": {},
   "outputs": [
    {
     "name": "stdout",
     "output_type": "stream",
     "text": [
      "Yes, banana is a fruit!\n"
     ]
    }
   ],
   "source": [
    "# Code to show uses of Membership Operators\n",
    "fruits = [\"apple\", \"banana\", \"cherry\"]\n",
    "if \"banana\" in fruits:                        #in Membership Operator\n",
    "    print(\"Yes, banana is a fruit!\")\n",
    "else:\n",
    "    print(\"No, banana is not a fruit!\")"
   ]
  },
  {
   "cell_type": "code",
   "execution_count": 30,
   "id": "1a1590a1-d7fb-4fe2-b56e-868363d3c018",
   "metadata": {},
   "outputs": [
    {
     "name": "stdout",
     "output_type": "stream",
     "text": [
      "x and y are not the same object\n"
     ]
    }
   ],
   "source": [
    "# Code to show uses of Identity Operators\n",
    "x = 10\n",
    "y = 5 \n",
    "if x is y:                                   #is Identity Operator\n",
    "    print(\"x and y are the same object\") \n",
    "else:\n",
    "    print(\"x and y are not the same object\")"
   ]
  },
  {
   "cell_type": "markdown",
   "id": "6330220d-d8ea-4945-8ec0-0b8b48b81b8f",
   "metadata": {
    "jp-MarkdownHeadingCollapsed": true
   },
   "source": [
    "# Explain the concept of typecasting in Python with examples"
   ]
  },
  {
   "cell_type": "markdown",
   "id": "5fb027eb-cafc-4e71-a73d-d203e026c0f1",
   "metadata": {},
   "source": [
    "Type Casting is the method to convert the Python variable datatype into a certain data type in order to perform the required operation by users. \n",
    "In this article, we will see the various techniques for typecasting. There can be two types of Type Casting in Python:\n",
    "\n",
    "- Implicit Typecasting\n",
    "- Explicit Typecasting"
   ]
  },
  {
   "cell_type": "code",
   "execution_count": 2,
   "id": "51e23301-b19c-4e97-b61c-deaa0069a91c",
   "metadata": {},
   "outputs": [
    {
     "name": "stdout",
     "output_type": "stream",
     "text": [
      "<class 'int'>\n",
      "<class 'float'>\n",
      "10.0\n",
      "<class 'float'>\n",
      "21.0\n",
      "<class 'float'>\n"
     ]
    }
   ],
   "source": [
    "# Python program to demonstrate Implicit Typecasting\n",
    "# Python automatically converts \n",
    "# a to int \n",
    "a = 7\n",
    "print(type(a)) \n",
    "\n",
    "# Python automatically converts \n",
    "# b to float \n",
    "b = 3.0\n",
    "print(type(b)) \n",
    "\n",
    "# Python automatically converts \n",
    "# c to float as it is a float addition \n",
    "c = a + b \n",
    "print(c) \n",
    "print(type(c))\n",
    "\n",
    "# Python automatically converts \n",
    "# d to float as it is a float multiplication\n",
    "d = a * b\n",
    "print(d)\n",
    "print(type(d))\n"
   ]
  },
  {
   "cell_type": "code",
   "execution_count": 5,
   "id": "767f95c9-ac70-45a8-b8ff-72c10aa0c09e",
   "metadata": {},
   "outputs": [
    {
     "name": "stdout",
     "output_type": "stream",
     "text": [
      "5.0\n",
      "<class 'float'>\n",
      "5\n",
      "<class 'str'>\n"
     ]
    }
   ],
   "source": [
    "# Python program to demonstrate Explicit Typecasting\n",
    "\n",
    "# int variable\n",
    "a = 5\n",
    "\n",
    "# typecast to float\n",
    "n = float(a)\n",
    "\n",
    "print(n)\n",
    "print(type(n))\n",
    "\n",
    "# typecast to str\n",
    "m = str(a)\n",
    "\n",
    "print(m)\n",
    "print(type(m))\n"
   ]
  },
  {
   "cell_type": "markdown",
   "id": "1e1ccffe-3b96-43b2-9fe9-998f575d4edc",
   "metadata": {
    "jp-MarkdownHeadingCollapsed": true
   },
   "source": [
    "# How do conditional statements work in Python? Illustrate with examples."
   ]
  },
  {
   "cell_type": "markdown",
   "id": "5235a286-fa2c-4155-91c7-d377776c8e82",
   "metadata": {},
   "source": [
    "### Conditional Statements are statements in Python that provide a choice for the control flow based on a condition. It means that the control flow of the Python program will be decided based on the outcome of the condition.\n"
   ]
  },
  {
   "cell_type": "code",
   "execution_count": 6,
   "id": "7f470b2f-a916-414b-9ffe-4bf03e63d5d2",
   "metadata": {},
   "outputs": [
    {
     "name": "stdout",
     "output_type": "stream",
     "text": [
      "letter is A\n"
     ]
    }
   ],
   "source": [
    "# if-else-elif conditional statement\n",
    "letter = \"A\"\n",
    "\n",
    "if letter == \"B\":\n",
    "    print(\"letter is B\")\n",
    "\n",
    "elif letter == \"C\":\n",
    "    print(\"letter is C\")\n",
    "elif letter == \"A\":\n",
    "    print(\"letter is A\")\n",
    "else:\n",
    "    print(\"letter isn't A, B and C\")\n",
    "    "
   ]
  },
  {
   "cell_type": "markdown",
   "id": "b7a8cd5d-23c5-4da1-a76d-a1228cab595e",
   "metadata": {
    "jp-MarkdownHeadingCollapsed": true
   },
   "source": [
    "# Describe the different types of loops in Python and their use cases with examples."
   ]
  },
  {
   "cell_type": "markdown",
   "id": "4f15e494-3345-4043-83cd-59bbb6aa729c",
   "metadata": {},
   "source": [
    "### A loop is a control flow statement in Python that allows you to execute a piece of code repeatedly until a specific condition is met. There are two types of loops in Python :\n",
    "- for loop\n",
    "- while loop"
   ]
  },
  {
   "cell_type": "code",
   "execution_count": 16,
   "id": "672bcba6-643c-4dab-8dc2-205b90da8cdb",
   "metadata": {},
   "outputs": [
    {
     "name": "stdout",
     "output_type": "stream",
     "text": [
      "1 3 5 7 9 11 13 15 17 19 21 23 25 27 29 31 33 35 37 39 41 43 45 47 49 51 53 55 57 59 61 63 65 67 69 71 73 75 77 79 81 83 85 87 89 91 93 95 97 99 "
     ]
    }
   ],
   "source": [
    "# Code to show uses of for loop\n",
    "\n",
    "for a in range(100):\n",
    "    if a%2==1:\n",
    "        print(a, end=\" \")\n",
    "    else:\n",
    "        continue\n",
    "        "
   ]
  },
  {
   "cell_type": "code",
   "execution_count": 17,
   "id": "159531e8-ce81-4f85-8c58-e876cad30154",
   "metadata": {},
   "outputs": [
    {
     "name": "stdout",
     "output_type": "stream",
     "text": [
      "*\n",
      "**\n",
      "***\n",
      "****\n"
     ]
    }
   ],
   "source": [
    "# Code to show uses of while loop\n",
    "\n",
    "row=1\n",
    "while row<=4:\n",
    "    col=1\n",
    "    while col<=row:\n",
    "        print(\"*\", end=\"\")\n",
    "        col=col+1\n",
    "    print()\n",
    "    row=row+1    "
   ]
  },
  {
   "cell_type": "code",
   "execution_count": null,
   "id": "1b6e3a00-fbed-484d-9bff-58cce0a09dea",
   "metadata": {},
   "outputs": [],
   "source": []
  }
 ],
 "metadata": {
  "kernelspec": {
   "display_name": "Python 3 (ipykernel)",
   "language": "python",
   "name": "python3"
  },
  "language_info": {
   "codemirror_mode": {
    "name": "ipython",
    "version": 3
   },
   "file_extension": ".py",
   "mimetype": "text/x-python",
   "name": "python",
   "nbconvert_exporter": "python",
   "pygments_lexer": "ipython3",
   "version": "3.12.4"
  }
 },
 "nbformat": 4,
 "nbformat_minor": 5
}
