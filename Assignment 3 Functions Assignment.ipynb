{
 "cells": [
  {
   "cell_type": "markdown",
   "id": "0a34e187-098a-4a08-bad1-f00ff4eb6bd7",
   "metadata": {},
   "source": [
    "# >> Theory Questions"
   ]
  },
  {
   "cell_type": "markdown",
   "id": "6341143a-a188-4a27-aa5a-20ccb2d77335",
   "metadata": {
    "jp-MarkdownHeadingCollapsed": true
   },
   "source": [
    "### 1. What is the difference between a function and a method in Python?"
   ]
  },
  {
   "cell_type": "markdown",
   "id": "8cc7cb78-610d-4f38-be07-fba8fa0746ef",
   "metadata": {},
   "source": [
    "> In Python, methods and functions have similar purposes but differ in important ways.\n",
    "> Functions are independent blocks of code that can be called from anywhere, while methods are tied to objects or classes and need an object or class instance to be invoked."
   ]
  },
  {
   "cell_type": "code",
   "execution_count": 1,
   "id": "1f11a409-9302-4f63-95a7-432682fcecb2",
   "metadata": {},
   "outputs": [
    {
     "name": "stdin",
     "output_type": "stream",
     "text": [
      "Enter input number :  5\n"
     ]
    },
    {
     "name": "stdout",
     "output_type": "stream",
     "text": [
      "The factorial of 5 is 120\n"
     ]
    }
   ],
   "source": [
    "# Example of Function\n",
    "\n",
    "#A function used to find  factorial of a number\n",
    "\n",
    "def factorial(n):\n",
    "    return 1 if (n==1 or n==0) else n * factorial(n-1);\n",
    " \n",
    "n = int(input(\"Enter input number : \"))                          # taking input \n",
    "print(\"The factorial of\",n,\"is\",factorial(n))"
   ]
  },
  {
   "cell_type": "code",
   "execution_count": 6,
   "id": "8980a189-aa6a-4a9f-ad99-cd539bfb602e",
   "metadata": {},
   "outputs": [
    {
     "name": "stdout",
     "output_type": "stream",
     "text": [
      "I am Shubham\n"
     ]
    }
   ],
   "source": [
    "# Example of method\n",
    "\n",
    "class Employee(object):\n",
    "   def my_method(self):                \n",
    "      print(\"I am Shubham\")\n",
    "name = Employee()\n",
    "name.my_method()"
   ]
  },
  {
   "cell_type": "markdown",
   "id": "9b36d655-1a23-40de-b510-c7dd23fad889",
   "metadata": {
    "jp-MarkdownHeadingCollapsed": true
   },
   "source": [
    "### 2. Explain the concepts of function arguments and parameters in python."
   ]
  },
  {
   "cell_type": "markdown",
   "id": "d41209ef-85a8-496b-8557-79f8117ddec6",
   "metadata": {},
   "source": [
    "> An argument in programming is the value passed to a function or a method when it is called. The function uses these values to perform operations or calculations. Arguments are the real, concrete data that replace the function's parameters when the function executes."
   ]
  },
  {
   "cell_type": "code",
   "execution_count": 14,
   "id": "00692206-74a7-484d-b630-7b5e70a0def2",
   "metadata": {},
   "outputs": [
    {
     "data": {
      "text/plain": [
       "16"
      ]
     },
     "execution_count": 14,
     "metadata": {},
     "output_type": "execute_result"
    }
   ],
   "source": [
    "# example to show function arguments\n",
    "def square(a):\n",
    "    return a * a\n",
    "\n",
    "square(4)                         # 4 is an argument"
   ]
  },
  {
   "cell_type": "markdown",
   "id": "2313e67b-3f30-4df4-94fc-f57c000e5482",
   "metadata": {},
   "source": [
    "> In programming, a parameter refers to a named variable within a function or method definition. The parameter serves as a placeholder for a value that will be passed to the function or method at the time of its call. Essentially, parameters define the type of data a function can accept and also dictate how many pieces of data it expects. They act as the blueprint for the arguments that will be provided during the function's execution."
   ]
  },
  {
   "cell_type": "code",
   "execution_count": 13,
   "id": "892ed674-2c1f-464c-80fe-9d5006e5b549",
   "metadata": {},
   "outputs": [
    {
     "name": "stdout",
     "output_type": "stream",
     "text": [
      "Coordinates are (X: 5 , Y: 10 )\n"
     ]
    }
   ],
   "source": [
    "# example to show function parameters\n",
    "def set_coordinates(x, y):                     #Here, x and y are parameters, and the function call uses keyword arguments to specify them.\n",
    "    print(\"Coordinates are (X:\", x, \", Y:\", y, \")\")       \n",
    "    \n",
    "set_coordinates(y=10, x=5)"
   ]
  },
  {
   "cell_type": "markdown",
   "id": "ac6bdf10-0d89-44f2-b270-353689d32c10",
   "metadata": {
    "jp-MarkdownHeadingCollapsed": true
   },
   "source": [
    "### 3. What are the different ways to define and call a function in python?"
   ]
  },
  {
   "cell_type": "markdown",
   "id": "e881aa9a-f4fd-4d97-b9ca-b4bad7003011",
   "metadata": {},
   "source": [
    "> In Python, functions are defined using the def keyword, followed by the function name and parentheses (). Inside the function, you can add code that executes when the function is called. Below are several ways to define and call functions in Python:"
   ]
  },
  {
   "cell_type": "code",
   "execution_count": 16,
   "id": "4043a82e-6e8a-4581-beeb-f616a0106b55",
   "metadata": {},
   "outputs": [
    {
     "name": "stdout",
     "output_type": "stream",
     "text": [
      "Hello, World!\n"
     ]
    }
   ],
   "source": [
    "#Basic function defintion\n",
    "def greet():\n",
    "    print(\"Hello, World!\")\n",
    "\n",
    "# Function Call\n",
    "greet()"
   ]
  },
  {
   "cell_type": "code",
   "execution_count": 20,
   "id": "6f077ae8-8dce-4cff-9672-f08c6ed50524",
   "metadata": {},
   "outputs": [
    {
     "name": "stdout",
     "output_type": "stream",
     "text": [
      "Welcome to the office Shubham\n"
     ]
    }
   ],
   "source": [
    "# Function with Parameters\n",
    "def greetings(name):\n",
    "    print(\"Welcome to the office\", name)\n",
    "\n",
    "# Function Call\n",
    "greetings(\"Shubham\")"
   ]
  },
  {
   "cell_type": "code",
   "execution_count": 24,
   "id": "1e5a2715-a50b-4071-be58-23751dc9c323",
   "metadata": {},
   "outputs": [
    {
     "data": {
      "text/plain": [
       "8"
      ]
     },
     "execution_count": 24,
     "metadata": {},
     "output_type": "execute_result"
    }
   ],
   "source": [
    "# Function with return statement\n",
    "# Function with a Return Value\n",
    "def add(a, b):\n",
    "    return a + b\n",
    "\n",
    "# Function Call\n",
    "add(5, 3)"
   ]
  },
  {
   "cell_type": "code",
   "execution_count": 27,
   "id": "38b4c4a8-30d8-4b0d-aa2e-de5b587ce0dc",
   "metadata": {},
   "outputs": [
    {
     "data": {
      "text/plain": [
       "10"
      ]
     },
     "execution_count": 27,
     "metadata": {},
     "output_type": "execute_result"
    }
   ],
   "source": [
    "# Variable input arguments\n",
    "\n",
    "# Function with *args\n",
    "def add_all(*args):\n",
    "    return sum(args)\n",
    "\n",
    "# Function Call\n",
    "add_all(1, 2, 3, 4)"
   ]
  },
  {
   "cell_type": "code",
   "execution_count": 35,
   "id": "6671921f-4843-46b5-9f05-742c72b9daaa",
   "metadata": {},
   "outputs": [
    {
     "name": "stdout",
     "output_type": "stream",
     "text": [
      "name: Alice\n",
      "age: 30\n",
      "location: India\n"
     ]
    }
   ],
   "source": [
    "# Function with Fixed input arguments **kwargs\n",
    "def greet(**kwargs):\n",
    "    for key, value in kwargs.items():\n",
    "        print(f\"{key}: {value}\")\n",
    "\n",
    "# Function Call\n",
    "greet(name=\"Alice\", age=30, location=\"India\")"
   ]
  },
  {
   "cell_type": "code",
   "execution_count": 37,
   "id": "41417992-1f2d-4e84-ac34-2d9ff7191f38",
   "metadata": {},
   "outputs": [
    {
     "data": {
      "text/plain": [
       "5"
      ]
     },
     "execution_count": 37,
     "metadata": {},
     "output_type": "execute_result"
    }
   ],
   "source": [
    "# Lambda Function\n",
    "add = lambda a, b: a + b\n",
    "\n",
    "# Function Call\n",
    "add(2, 3)"
   ]
  },
  {
   "cell_type": "code",
   "execution_count": 39,
   "id": "d393d30f-d655-4cb4-ad78-54164297ee17",
   "metadata": {},
   "outputs": [
    {
     "data": {
      "text/plain": [
       "120"
      ]
     },
     "execution_count": 39,
     "metadata": {},
     "output_type": "execute_result"
    }
   ],
   "source": [
    "# Recursive Function\n",
    "def factorial(n):\n",
    "    if n == 1:\n",
    "        return 1\n",
    "    else:\n",
    "        return n * factorial(n - 1)\n",
    "\n",
    "# Function Call\n",
    "factorial(5)"
   ]
  },
  {
   "cell_type": "markdown",
   "id": "3c9962f3-6ade-4f7d-a806-8d011d3e302b",
   "metadata": {
    "jp-MarkdownHeadingCollapsed": true
   },
   "source": [
    "### 4. What is the purpose of the 'return' statement in a Python function?"
   ]
  },
  {
   "cell_type": "markdown",
   "id": "6d664931-d09c-43d2-82f8-6495f4985638",
   "metadata": {},
   "source": [
    ">> The 'return' statement in Python is used to exit a function and optionally pass a value back to the caller. When a function encounters a return statement, it terminates and the specified value (if any) is returned to the point where the function was called."
   ]
  },
  {
   "cell_type": "code",
   "execution_count": 40,
   "id": "6c507b2f-f6fe-409c-aa33-345634c00274",
   "metadata": {},
   "outputs": [
    {
     "data": {
      "text/plain": [
       "16"
      ]
     },
     "execution_count": 40,
     "metadata": {},
     "output_type": "execute_result"
    }
   ],
   "source": [
    "# This code has 'return statement which it give some values to the caller.\n",
    "# returned values are square of a number\n",
    "def square(number):\n",
    "    return number * number\n",
    "\n",
    "# Function Call\n",
    "square(4)\n"
   ]
  },
  {
   "cell_type": "markdown",
   "id": "112822f0-58ed-479b-9c3e-3458aecc03bc",
   "metadata": {
    "jp-MarkdownHeadingCollapsed": true
   },
   "source": [
    "### 5. What are iterators in Python and how do they differ from iterables?"
   ]
  },
  {
   "cell_type": "markdown",
   "id": "bcbc6794-d0e8-47f2-8418-f010fc074056",
   "metadata": {},
   "source": [
    "> In Python, iterators and iterables are fundamental concepts for handling sequences of data in loops and other contexts.\n",
    ">\n",
    ">> Iterable : An iterable is any Python object that can return its elements one at a time. These objects implement the __iter__() method, which returns an iterator. Examples of iterables include lists, tuples, strings, sets, and dictionaries.\n",
    ">> Iterable can be looped over, but doesn't maintain any internal state. It must implement the __iter__() method, which returns an iterator."
   ]
  },
  {
   "cell_type": "code",
   "execution_count": 43,
   "id": "d1ddce75-eb92-4d70-9cbc-952d094c3da8",
   "metadata": {},
   "outputs": [
    {
     "name": "stdout",
     "output_type": "stream",
     "text": [
      "1\n",
      "2\n",
      "3\n"
     ]
    }
   ],
   "source": [
    "# A list is an iterable\n",
    "my_list = [1, 2, 3]\n",
    "\n",
    "# You can loop over it\n",
    "for item in my_list:                       # Here, my_list is an iterable.\n",
    "    print(item)"
   ]
  },
  {
   "cell_type": "markdown",
   "id": "3898629f-3fe3-4731-a738-c9b8bf3e6395",
   "metadata": {},
   "source": [
    ">> Iterator : An iterator is an object that represents a stream of data. It implements the __next__() method, which returns the next element in the sequence. When there are no more elements, it raises a StopIteration exception. Iterators are also iterables, but they exhaust their values as you iterate through them.\n",
    ">> Iterator maintains its state and provides the next element each time __next__() is called. It must implement both the __iter__() and __next__() methods."
   ]
  },
  {
   "cell_type": "code",
   "execution_count": 51,
   "id": "8eddac11-5700-426d-ab0e-2624b95647e8",
   "metadata": {},
   "outputs": [
    {
     "data": {
      "text/plain": [
       "1"
      ]
     },
     "execution_count": 51,
     "metadata": {},
     "output_type": "execute_result"
    }
   ],
   "source": [
    "# A list is an iterable, but we can also explicitly get an iterator from it\n",
    "my_list = [1, 2, 3]\n",
    "my_iterator = iter(my_list)             # Get an iterator using iter()\n",
    "\n",
    "# Call next() to get elements one at a time\n",
    "next(my_iterator)                       # Output: 1"
   ]
  },
  {
   "cell_type": "code",
   "execution_count": 52,
   "id": "23af295b-d7ce-4a9d-86d2-88fd9386de58",
   "metadata": {},
   "outputs": [
    {
     "data": {
      "text/plain": [
       "2"
      ]
     },
     "execution_count": 52,
     "metadata": {},
     "output_type": "execute_result"
    }
   ],
   "source": [
    "next(my_iterator)                       # Output: 2"
   ]
  },
  {
   "cell_type": "code",
   "execution_count": 53,
   "id": "52bf3eea-e6eb-44cb-bb5f-c91890e7bcaf",
   "metadata": {},
   "outputs": [
    {
     "data": {
      "text/plain": [
       "3"
      ]
     },
     "execution_count": 53,
     "metadata": {},
     "output_type": "execute_result"
    }
   ],
   "source": [
    "next(my_iterator)                       # Output: 3\n",
    "\n",
    "# If you call next() again, it raises StopIteration\n",
    "# print(next(my_iterator))  # Uncommenting this will raise StopIteration"
   ]
  },
  {
   "cell_type": "markdown",
   "id": "9daf6ed6-7428-4e52-baaf-235ea56bb96a",
   "metadata": {
    "jp-MarkdownHeadingCollapsed": true
   },
   "source": [
    "### 6. Explain the concept of generators in python and how are they defined."
   ]
  },
  {
   "cell_type": "markdown",
   "id": "f44357b0-bda2-4873-be07-f96fa05d38ce",
   "metadata": {},
   "source": [
    "> In Python, generators are a type of iterator that allow you to iterate over a sequence of values lazily, meaning they generate values on the fly instead of storing them in memory all at once. Generators are defined using functions and the 'yield' keyword."
   ]
  },
  {
   "cell_type": "code",
   "execution_count": 56,
   "id": "ea8cd816-1a92-48ec-949c-43b1fd1205f7",
   "metadata": {},
   "outputs": [
    {
     "data": {
      "text/plain": [
       "<generator object fib at 0x000001771913B680>"
      ]
     },
     "execution_count": 56,
     "metadata": {},
     "output_type": "execute_result"
    }
   ],
   "source": [
    "# generator with 'yield' keyword\n",
    "def fib(n):\n",
    "    a=0\n",
    "    b=1\n",
    "    for i in range(n):               #if n=5,0,1,2,3,4\n",
    "        yield a\n",
    "        a, b = b, a+b  \n",
    "\n",
    "f = fib(100)\n",
    "f"
   ]
  },
  {
   "cell_type": "code",
   "execution_count": 57,
   "id": "36704abc-95d8-486e-89e5-cdbc5e0495cc",
   "metadata": {},
   "outputs": [
    {
     "data": {
      "text/plain": [
       "0"
      ]
     },
     "execution_count": 57,
     "metadata": {},
     "output_type": "execute_result"
    }
   ],
   "source": [
    "next(f)"
   ]
  },
  {
   "cell_type": "code",
   "execution_count": 58,
   "id": "c4465053-7b5c-4b46-ac5b-d73200773578",
   "metadata": {},
   "outputs": [
    {
     "data": {
      "text/plain": [
       "1"
      ]
     },
     "execution_count": 58,
     "metadata": {},
     "output_type": "execute_result"
    }
   ],
   "source": [
    "next(f)"
   ]
  },
  {
   "cell_type": "code",
   "execution_count": 59,
   "id": "4f2b69e1-92b2-4689-8cf7-cd490c907257",
   "metadata": {},
   "outputs": [
    {
     "data": {
      "text/plain": [
       "1"
      ]
     },
     "execution_count": 59,
     "metadata": {},
     "output_type": "execute_result"
    }
   ],
   "source": [
    "next(f)"
   ]
  },
  {
   "cell_type": "code",
   "execution_count": 60,
   "id": "766fe0fd-5a7b-4f94-af5a-de0d2a031c8f",
   "metadata": {},
   "outputs": [
    {
     "data": {
      "text/plain": [
       "2"
      ]
     },
     "execution_count": 60,
     "metadata": {},
     "output_type": "execute_result"
    }
   ],
   "source": [
    "next(f)"
   ]
  },
  {
   "cell_type": "code",
   "execution_count": 61,
   "id": "377857cd-2656-433c-b5d8-e0b7369a985e",
   "metadata": {},
   "outputs": [
    {
     "data": {
      "text/plain": [
       "3"
      ]
     },
     "execution_count": 61,
     "metadata": {},
     "output_type": "execute_result"
    }
   ],
   "source": [
    "next(f)"
   ]
  },
  {
   "cell_type": "code",
   "execution_count": 62,
   "id": "42b11f58-40fd-4053-9ab5-54033944ce00",
   "metadata": {},
   "outputs": [
    {
     "data": {
      "text/plain": [
       "5"
      ]
     },
     "execution_count": 62,
     "metadata": {},
     "output_type": "execute_result"
    }
   ],
   "source": [
    "next(f)"
   ]
  },
  {
   "cell_type": "code",
   "execution_count": 64,
   "id": "863eca01-02d2-403a-9207-28c9df3815d7",
   "metadata": {},
   "outputs": [],
   "source": [
    "# and it will goes on until 100 objects"
   ]
  },
  {
   "cell_type": "markdown",
   "id": "1d79c21d-bf7b-400e-aeab-e3fb182f7224",
   "metadata": {
    "jp-MarkdownHeadingCollapsed": true
   },
   "source": [
    "### 7. What are the advantages of using generators over regular functions?"
   ]
  },
  {
   "cell_type": "markdown",
   "id": "166c32be-4c75-4869-9e15-bf85dc14a2a2",
   "metadata": {},
   "source": [
    "> Generators have several advantages over regular functions, especially when working with large datasets, memory constraints, or when dealing with sequences of data that don’t need to be computed all at once. Here are the key benefits :\n",
    "- Memory Efficiency: Generators only hold one value at a time, making them much more memory efficient than storing large collections.\n",
    "- Lazy Evaluation: Values are produced on demand, which can improve performance and reduce unnecessary computations.\n",
    "- Improved Performance: Particularly for large data sets, generators can reduce the overhead of precomputing and storing results.\n",
    "- Simpler Iterator Syntax: Using yield makes writing iterators easier and more readable.\n",
    "- Pipeline Generation: Generators can be chained together to process data in stages without intermediate data structures.\n",
    "- No Intermediate Data Structures: Avoids creating and storing unnecessary data in memory, reducing memory usage."
   ]
  },
  {
   "cell_type": "markdown",
   "id": "b2620a67-0a09-4ca5-a855-a9a1c6875610",
   "metadata": {
    "jp-MarkdownHeadingCollapsed": true
   },
   "source": [
    "### 8. What is a lambda function in Python and when it is typically used?"
   ]
  },
  {
   "cell_type": "markdown",
   "id": "30184778-02a8-4315-8734-bfb9dc6088e2",
   "metadata": {},
   "source": [
    "> A lambda function in Python is a small, anonymous function defined using the lambda keyword. Unlike regular functions defined with the def keyword, a lambda function can have any number of parameters, but can only contain a single expression. It is often used for short, simple operations where defining a full function would be overkill. For ex. -"
   ]
  },
  {
   "cell_type": "code",
   "execution_count": 76,
   "id": "8a635a4f-7cfb-4aa0-9f69-9871412d40ba",
   "metadata": {},
   "outputs": [
    {
     "data": {
      "text/plain": [
       "8"
      ]
     },
     "execution_count": 76,
     "metadata": {},
     "output_type": "execute_result"
    }
   ],
   "source": [
    "# A lambda function to add two numbers\n",
    "add = lambda x, y: x + y                   # A concise and single line expression\n",
    "\n",
    "# Call the lambda function\n",
    "add(5, 3)"
   ]
  },
  {
   "cell_type": "markdown",
   "id": "1fe57a36-a325-48e2-a5e1-ba1e8e4e4e77",
   "metadata": {
    "jp-MarkdownHeadingCollapsed": true
   },
   "source": [
    "### 9. Explain the purpose and usage of the 'map()' function in python."
   ]
  },
  {
   "cell_type": "markdown",
   "id": "7384e0ed-744d-4d1c-91fe-6b1eda895d81",
   "metadata": {},
   "source": [
    "> The map() function in Python is used to apply a given function to each item of an iterable (such as a list, tuple, etc.) and return a map object (which is an iterator) containing the results. It is particularly useful when you want to apply a transformation or operation to all elements in an iterable without having to write an explicit loop."
   ]
  },
  {
   "cell_type": "code",
   "execution_count": 66,
   "id": "19938e09-e065-4959-93c0-392bf906c72a",
   "metadata": {},
   "outputs": [
    {
     "data": {
      "text/plain": [
       "[1, 2, 3, 4, 5]"
      ]
     },
     "execution_count": 66,
     "metadata": {},
     "output_type": "execute_result"
    }
   ],
   "source": [
    "# List of integers\n",
    "numbers = [1, 2, 3, 4, 5]\n",
    "\n",
    "# Use map to apply the built-in 'abs' (absolute value) function to each element\n",
    "result = map(abs, [-1, -2, -3, -4, -5])\n",
    "\n",
    "# Convert the result to a list and print it\n",
    "list(result)"
   ]
  },
  {
   "cell_type": "markdown",
   "id": "7f3ff82d-be05-417e-b6d8-3f432305f923",
   "metadata": {
    "jp-MarkdownHeadingCollapsed": true
   },
   "source": [
    "### 10. What is the difference between 'map()','reduce()' and 'filter()' function in python?"
   ]
  },
  {
   "cell_type": "markdown",
   "id": "4bbb6c29-cfb4-4198-9cd9-273e84cbe400",
   "metadata": {},
   "source": [
    "> The map(), reduce(), and filter() functions in Python are all part of the functional programming paradigm, designed to process collections of data (like lists, tuples, etc.) in a concise and readable way. However, they serve different purposes and operate differently. Here's a breakdown of each function and how they differ:"
   ]
  },
  {
   "cell_type": "code",
   "execution_count": 69,
   "id": "f04824fb-6b1f-4b6a-8d66-e13d9122b6a2",
   "metadata": {},
   "outputs": [
    {
     "data": {
      "text/plain": [
       "[1, 4, 9, 16]"
      ]
     },
     "execution_count": 69,
     "metadata": {},
     "output_type": "execute_result"
    }
   ],
   "source": [
    "# Map Function : The map() function is used to apply a given function to each item of an iterable (such as a list) \n",
    "# and return an iterator with the transformed results.\n",
    "# Here map() applies the function (lambda here) to square each element of numbers.\n",
    "\n",
    "numbers = [1, 2, 3, 4]\n",
    "# Square each number in the list\n",
    "squared_numbers = map(lambda x: x ** 2, numbers)\n",
    "list(squared_numbers)"
   ]
  },
  {
   "cell_type": "code",
   "execution_count": 71,
   "id": "7c8fbcec-200e-4064-a39d-12c2283bb154",
   "metadata": {},
   "outputs": [
    {
     "data": {
      "text/plain": [
       "24"
      ]
     },
     "execution_count": 71,
     "metadata": {},
     "output_type": "execute_result"
    }
   ],
   "source": [
    "# Reduce Function : The reduce() function (available in the functools module) is used to apply a rolling computation (i.e., accumulate results)\n",
    "# to sequential pairs of items in an iterable, eventually reducing it to a single cumulative value.\n",
    "# Here, reduce() multiplies the elements of the list together, returning a single cumulative value.\n",
    "\n",
    "from functools import reduce\n",
    "\n",
    "numbers = [1, 2, 3, 4]\n",
    "# Multiply all the numbers together\n",
    "product = reduce(lambda x, y: x * y, numbers)\n",
    "product"
   ]
  },
  {
   "cell_type": "code",
   "execution_count": 73,
   "id": "45c4dcc8-ae44-44f9-b321-8fb2acf01b02",
   "metadata": {},
   "outputs": [
    {
     "data": {
      "text/plain": [
       "[2, 4, 6]"
      ]
     },
     "execution_count": 73,
     "metadata": {},
     "output_type": "execute_result"
    }
   ],
   "source": [
    "# Filter Function : The filter() function is used to apply a function (that returns True or False) to each item of an iterable,\n",
    "# and only the items for which the function returns True are included in the output.\n",
    "# Here, filter() returns only the even numbers from the numbers list.\n",
    "\n",
    "numbers = [1, 2, 3, 4, 5, 6]\n",
    "# Filter out the odd numbers\n",
    "even_numbers = filter(lambda x: x % 2 == 0, numbers)\n",
    "list(even_numbers)"
   ]
  },
  {
   "cell_type": "markdown",
   "id": "aeb199ff-67bf-4b24-992e-0ed1fba50415",
   "metadata": {
    "jp-MarkdownHeadingCollapsed": true
   },
   "source": [
    "### 11. Using pen and paper write the internal mechanism of sum opereation using reduce() function on this given list [47,11,42,13];"
   ]
  },
  {
   "cell_type": "markdown",
   "id": "9f0b98c4-0b33-4d1f-a367-371cea6a288b",
   "metadata": {},
   "source": [
    "> Attached Image for this answer"
   ]
  },
  {
   "cell_type": "markdown",
   "id": "089d90b5-3ecf-4990-adde-bf1bc6a82578",
   "metadata": {},
   "source": [
    "# >> Practical Questions"
   ]
  },
  {
   "cell_type": "markdown",
   "id": "38d5fcf0-f9f5-482a-b5e0-b903b7bd06e2",
   "metadata": {
    "jp-MarkdownHeadingCollapsed": true
   },
   "source": [
    "### 1. Write a Python function that takes a list of numbers as input and returns the sum of all even numbers in the list"
   ]
  },
  {
   "cell_type": "code",
   "execution_count": 102,
   "id": "802fb196-76fd-4fe2-a052-a37dc5513f8b",
   "metadata": {},
   "outputs": [
    {
     "name": "stdout",
     "output_type": "stream",
     "text": [
      "Even numbers: [2, 4, 6]\n",
      "Sum of even numbers :  12\n"
     ]
    }
   ],
   "source": [
    "def sum_of_even_numbers(numbers):\n",
    "    \"\"\"Returns a list of even numbers and their sum from the input list.\"\"\"\n",
    "    even_numbers = []\n",
    "    total = 0\n",
    "    \n",
    "    for num in numbers:\n",
    "        if num % 2 == 0:\n",
    "            even_numbers.append(num)\n",
    "            total += num\n",
    "    \n",
    "    return even_numbers, total\n",
    "\n",
    "# Calling:\n",
    "numbers = [1, 2, 3, 4, 5, 6]\n",
    "even_numbers, total_sum = sum_of_even_numbers(numbers)\n",
    "print(\"Even numbers:\", even_numbers) \n",
    "print(\"Sum of even numbers : \", total_sum)"
   ]
  },
  {
   "cell_type": "markdown",
   "id": "6b4f9ba4-7c2f-4ec6-ba3c-c0eea289dd6f",
   "metadata": {
    "jp-MarkdownHeadingCollapsed": true
   },
   "source": [
    "### 2. Create a python function that accepts a string and returns the reverse of that string."
   ]
  },
  {
   "cell_type": "code",
   "execution_count": 101,
   "id": "de629271-81db-4f10-aa91-541fdcc7d61b",
   "metadata": {},
   "outputs": [
    {
     "data": {
      "text/plain": [
       "'!dlroW ,olleH'"
      ]
     },
     "execution_count": 101,
     "metadata": {},
     "output_type": "execute_result"
    }
   ],
   "source": [
    "def reverse_string(s):\n",
    "    \"\"\"Returns the reverse of the input string.\"\"\"\n",
    "    return s[::-1]\n",
    "\n",
    "# Calling:\n",
    "input_string = \"Hello, World!\"\n",
    "reverse_string(input_string)"
   ]
  },
  {
   "cell_type": "markdown",
   "id": "9c65b3c7-df22-4c1d-a8f3-acaf806ae85e",
   "metadata": {
    "jp-MarkdownHeadingCollapsed": true
   },
   "source": [
    "### 3. Implement a python function that takes a list of integers and returns a new list containing the squares of each number."
   ]
  },
  {
   "cell_type": "code",
   "execution_count": 100,
   "id": "44f7f75f-c420-4d36-ba50-f1e573add033",
   "metadata": {},
   "outputs": [
    {
     "data": {
      "text/plain": [
       "[1, 4, 9, 16, 25]"
      ]
     },
     "execution_count": 100,
     "metadata": {},
     "output_type": "execute_result"
    }
   ],
   "source": [
    "def square_numbers(numbers):\n",
    "    \"\"\"Returns a new list containing the squares of each number in the input list.\"\"\"\n",
    "    return [num ** 2 for num in numbers]\n",
    "\n",
    "# Calling:\n",
    "input_list = [1, 2, 3, 4, 5]\n",
    "square_numbers(input_list)"
   ]
  },
  {
   "cell_type": "markdown",
   "id": "c352ada9-cb8e-4623-9435-ab93d6643d55",
   "metadata": {
    "jp-MarkdownHeadingCollapsed": true
   },
   "source": [
    "### 4. Write a python function that checks if a given number is prime or not from 1 to 200."
   ]
  },
  {
   "cell_type": "code",
   "execution_count": 99,
   "id": "0ba50c6e-ac07-4f32-b70a-1d9ec7b53f84",
   "metadata": {},
   "outputs": [
    {
     "name": "stdout",
     "output_type": "stream",
     "text": [
      "2 is a prime number.\n",
      "3 is a prime number.\n",
      "5 is a prime number.\n",
      "7 is a prime number.\n",
      "11 is a prime number.\n",
      "13 is a prime number.\n",
      "17 is a prime number.\n",
      "19 is a prime number.\n",
      "23 is a prime number.\n",
      "29 is a prime number.\n",
      "31 is a prime number.\n",
      "37 is a prime number.\n",
      "41 is a prime number.\n",
      "43 is a prime number.\n",
      "47 is a prime number.\n",
      "53 is a prime number.\n",
      "59 is a prime number.\n",
      "61 is a prime number.\n",
      "67 is a prime number.\n",
      "71 is a prime number.\n",
      "73 is a prime number.\n",
      "79 is a prime number.\n",
      "83 is a prime number.\n",
      "89 is a prime number.\n",
      "97 is a prime number.\n",
      "101 is a prime number.\n",
      "103 is a prime number.\n",
      "107 is a prime number.\n",
      "109 is a prime number.\n",
      "113 is a prime number.\n",
      "127 is a prime number.\n",
      "131 is a prime number.\n",
      "137 is a prime number.\n",
      "139 is a prime number.\n",
      "149 is a prime number.\n",
      "151 is a prime number.\n",
      "157 is a prime number.\n",
      "163 is a prime number.\n",
      "167 is a prime number.\n",
      "173 is a prime number.\n",
      "179 is a prime number.\n",
      "181 is a prime number.\n",
      "191 is a prime number.\n",
      "193 is a prime number.\n",
      "197 is a prime number.\n",
      "199 is a prime number.\n"
     ]
    }
   ],
   "source": [
    "def is_prime(num):\n",
    "    \"\"\"Returns True if the number is prime, otherwise False.\"\"\"\n",
    "    if num < 2:\n",
    "        return False  # 0 and 1 are not prime numbers\n",
    "    for i in range(2, int(num**0.5) + 1):\n",
    "        if num % i == 0:\n",
    "            return False\n",
    "    return True\n",
    "\n",
    "# Calling:\n",
    "for number in range(1, 201):\n",
    "    if is_prime(number):\n",
    "        print(f\"{number} is a prime number.\")"
   ]
  },
  {
   "cell_type": "markdown",
   "id": "7aa43289-c4aa-4f2e-8f01-18543858a17f",
   "metadata": {
    "jp-MarkdownHeadingCollapsed": true
   },
   "source": [
    "### 5. Create an interior class in python that generates a Fibonacci sequence upto a specified number of terms."
   ]
  },
  {
   "cell_type": "code",
   "execution_count": 105,
   "id": "0e03e6a6-b2e1-48b0-b167-8f9f8f1f5a6c",
   "metadata": {},
   "outputs": [
    {
     "name": "stdout",
     "output_type": "stream",
     "text": [
      "Fibonacci sequence: [0, 1, 1, 2, 3, 5, 8, 13, 21, 34]\n"
     ]
    }
   ],
   "source": [
    "class FibonacciGenerator:\n",
    "    \"\"\"Class to generate a Fibonacci sequence.\"\"\"\n",
    "    \n",
    "    def __init__(self, terms):\n",
    "        self.terms = terms\n",
    "        \n",
    "    def generate(self):\n",
    "        \"\"\"Generates the Fibonacci sequence up to the specified number of terms.\"\"\"\n",
    "        sequence = []\n",
    "        a, b = 0, 1\n",
    "        for _ in range(self.terms):\n",
    "            sequence.append(a)\n",
    "            a, b = b, a + b\n",
    "        return sequence\n",
    "\n",
    "# Calling :\n",
    "terms = 10\n",
    "fibonacci_gen = FibonacciGenerator(terms)\n",
    "fibonacci_sequence = fibonacci_gen.generate()\n",
    "print(\"Fibonacci sequence:\", fibonacci_sequence)"
   ]
  },
  {
   "cell_type": "markdown",
   "id": "d59500da-3f79-42be-adc3-d6dd50b5279a",
   "metadata": {
    "jp-MarkdownHeadingCollapsed": true
   },
   "source": [
    "### 6. Write a generator function in python that yields the powers of 2 upto a given exponent."
   ]
  },
  {
   "cell_type": "code",
   "execution_count": 106,
   "id": "66df4f27-7b05-4ef1-9268-fc535b5d104a",
   "metadata": {},
   "outputs": [
    {
     "name": "stdout",
     "output_type": "stream",
     "text": [
      "1\n",
      "2\n",
      "4\n",
      "8\n",
      "16\n",
      "32\n"
     ]
    }
   ],
   "source": [
    "def powers_of_two(exponent):\n",
    "    \"\"\"Generator function that yields powers of 2 up to the given exponent.\"\"\"\n",
    "    for i in range(exponent + 1):\n",
    "        yield 2 ** i\n",
    "\n",
    "# Example usage:\n",
    "exponent = 5\n",
    "for power in powers_of_two(exponent):\n",
    "    print(power)"
   ]
  },
  {
   "cell_type": "markdown",
   "id": "f71e2833-d85b-42c3-9dce-839215316fac",
   "metadata": {
    "jp-MarkdownHeadingCollapsed": true
   },
   "source": [
    "### 8. Use a lambda function in python to sort a list of tuples based on the second element of each tuple."
   ]
  },
  {
   "cell_type": "code",
   "execution_count": 114,
   "id": "2858040b-3a1c-4e8c-bc9a-ebe3c3b05b81",
   "metadata": {},
   "outputs": [
    {
     "name": "stdout",
     "output_type": "stream",
     "text": [
      "[(1, 'apple'), (3, 'cherry'), (4, 'date'), (2, 'pineapple')]\n"
     ]
    }
   ],
   "source": [
    "# Sample list of tuples\n",
    "data = [(1, 'apple'), (2, 'pineapple'), (3, 'cherry'), (4, 'date')]\n",
    "\n",
    "# Define the lambda function to get the second element\n",
    "key_function = lambda x: x[1]\n",
    "\n",
    "# Sort the list based on the second element of each tuple\n",
    "sorted_data = sorted(data, key=key_function)\n",
    "\n",
    "# Print the sorted list\n",
    "print(sorted_data)"
   ]
  },
  {
   "cell_type": "markdown",
   "id": "20317bcc-8c90-48ed-b0fc-5b117f6fcbda",
   "metadata": {
    "jp-MarkdownHeadingCollapsed": true
   },
   "source": [
    "### 9. Write a python program that uses 'map()' to convert a list of temperatures from Celsius to Fahreheit."
   ]
  },
  {
   "cell_type": "code",
   "execution_count": 115,
   "id": "a12c01b2-1d1f-448a-941c-1294a6f3684c",
   "metadata": {},
   "outputs": [
    {
     "name": "stdout",
     "output_type": "stream",
     "text": [
      "Celsius temperatures: [0, 20, 37, 100]\n",
      "Fahrenheit temperatures: [32.0, 68.0, 98.6, 212.0]\n"
     ]
    }
   ],
   "source": [
    "# Function to convert Celsius to Fahrenheit\n",
    "def celsius_to_fahrenheit(celsius):\n",
    "    return (celsius * 9/5) + 32\n",
    "    \n",
    "\n",
    "# List of temperatures in Celsius\n",
    "celsius_temps = [0, 20, 37, 100]\n",
    "\n",
    "# Use map() to convert Celsius to Fahrenheit\n",
    "fahrenheit_temps = list(map(celsius_to_fahrenheit, celsius_temps))\n",
    "\n",
    "# Print\n",
    "print(\"Celsius temperatures:\", celsius_temps)\n",
    "print(\"Fahrenheit temperatures:\", fahrenheit_temps)"
   ]
  },
  {
   "cell_type": "markdown",
   "id": "9c43c050-4899-4176-bfe1-bd76b5419f77",
   "metadata": {
    "jp-MarkdownHeadingCollapsed": true
   },
   "source": [
    "### 10. Create a python program that uses filter() to remove all the vowels from a given string."
   ]
  },
  {
   "cell_type": "code",
   "execution_count": 116,
   "id": "d487d659-a78c-4cc4-8c97-0100448f84c3",
   "metadata": {},
   "outputs": [
    {
     "name": "stdout",
     "output_type": "stream",
     "text": [
      "Original string: Hello, World!\n",
      "String after removing vowels: Hll, Wrld!\n"
     ]
    }
   ],
   "source": [
    "# Function to check if a character is not a vowel\n",
    "def is_not_vowel(char):\n",
    "    return char.lower() not in 'aeiou'\n",
    "\n",
    "# Input string\n",
    "input_string = \"Hello, World!\"\n",
    "\n",
    "# Use filter() to remove vowels\n",
    "filtered_string = ''.join(filter(is_not_vowel, input_string))\n",
    "\n",
    "# Print the result\n",
    "print(\"Original string:\", input_string)\n",
    "print(\"String after removing vowels:\", filtered_string)"
   ]
  },
  {
   "cell_type": "markdown",
   "id": "1f998350-598d-4e33-8dfc-58dcc6ad927e",
   "metadata": {},
   "source": [
    "### 11. Write"
   ]
  }
 ],
 "metadata": {
  "kernelspec": {
   "display_name": "Python 3 (ipykernel)",
   "language": "python",
   "name": "python3"
  },
  "language_info": {
   "codemirror_mode": {
    "name": "ipython",
    "version": 3
   },
   "file_extension": ".py",
   "mimetype": "text/x-python",
   "name": "python",
   "nbconvert_exporter": "python",
   "pygments_lexer": "ipython3",
   "version": "3.12.4"
  }
 },
 "nbformat": 4,
 "nbformat_minor": 5
}
