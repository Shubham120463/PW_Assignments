{
 "cells": [
  {
   "cell_type": "markdown",
   "id": "6ddcfa12-8abd-475b-8349-3e4d9e3c429d",
   "metadata": {
    "jp-MarkdownHeadingCollapsed": true
   },
   "source": [
    "# 1. Define String slicing and provide examples."
   ]
  },
  {
   "cell_type": "markdown",
   "id": "02cc7f0c-315c-4f14-97c8-17d10dcbde29",
   "metadata": {},
   "source": [
    "### String slicing in Python allows us to extract a specific portion of a string by specifying a range of indices. Using the syntax string[start:stop:step], we can select characters from the start index up to, but not including, the stop index, with an optional step to skip characters.\n",
    "Examples are :"
   ]
  },
  {
   "cell_type": "code",
   "execution_count": 1,
   "id": "220c0c19-91b2-46f7-9f19-6d0f14f5d56b",
   "metadata": {},
   "outputs": [
    {
     "data": {
      "text/plain": [
       "'Shubh'"
      ]
     },
     "execution_count": 1,
     "metadata": {},
     "output_type": "execute_result"
    }
   ],
   "source": [
    "string = \"Shubham is my class fellow\"\n",
    "string[0:5:1]"
   ]
  },
  {
   "cell_type": "code",
   "execution_count": 2,
   "id": "4d740525-4b0a-4015-a290-c34cd9e6ab50",
   "metadata": {},
   "outputs": [
    {
     "data": {
      "text/plain": [
       "'Suh'"
      ]
     },
     "execution_count": 2,
     "metadata": {},
     "output_type": "execute_result"
    }
   ],
   "source": [
    "string[0:5:2]"
   ]
  },
  {
   "cell_type": "code",
   "execution_count": 6,
   "id": "80f41ca1-b61f-4f5b-aaee-e6eb883b8571",
   "metadata": {},
   "outputs": [
    {
     "data": {
      "text/plain": [
       "'wollef ssalc ym si mahbuhS'"
      ]
     },
     "execution_count": 6,
     "metadata": {},
     "output_type": "execute_result"
    }
   ],
   "source": [
    "string[::-1]                                   #string reversing using string slicing"
   ]
  },
  {
   "cell_type": "code",
   "execution_count": 5,
   "id": "5cf94c3b-99d8-417b-9e40-388af9fbca92",
   "metadata": {},
   "outputs": [
    {
     "data": {
      "text/plain": [
       "'class'"
      ]
     },
     "execution_count": 5,
     "metadata": {},
     "output_type": "execute_result"
    }
   ],
   "source": [
    "string[14:19:1]"
   ]
  },
  {
   "cell_type": "markdown",
   "id": "3b520c0b-9b77-4b1f-881a-229e1d91844a",
   "metadata": {
    "jp-MarkdownHeadingCollapsed": true
   },
   "source": [
    "# 2. Explain the key features of list in python."
   ]
  },
  {
   "cell_type": "markdown",
   "id": "47db99a2-14ee-43a1-afc0-064c1a7f9d0e",
   "metadata": {},
   "source": [
    "### Key features of List in Python are :\n",
    "- Lists are mutable and dynamic, list items can be added, removed or changed after the list is defined. \n",
    "- Lists are ordered, newly added items will be placed at the end of the list. \n",
    "- Lists use zero-based indexing, every list item has an associated index, and the first item's index is 0."
   ]
  },
  {
   "cell_type": "markdown",
   "id": "9fe64279-a1bf-4df2-8536-4a9c109a7d99",
   "metadata": {
    "jp-MarkdownHeadingCollapsed": true
   },
   "source": [
    "# 3. Describe how to access, modify and delete elements in a list with examples."
   ]
  },
  {
   "cell_type": "markdown",
   "id": "19267587-42c6-4f1c-9af9-305b30dc7729",
   "metadata": {},
   "source": [
    "### Access elements in a list\n",
    "we can access elements in a list using indexing.\n",
    "For ex:"
   ]
  },
  {
   "cell_type": "code",
   "execution_count": 11,
   "id": "630500c9-fbcc-43a9-85c0-9b3966edb961",
   "metadata": {},
   "outputs": [
    {
     "data": {
      "text/plain": [
       "'Malik'"
      ]
     },
     "execution_count": 11,
     "metadata": {},
     "output_type": "execute_result"
    }
   ],
   "source": [
    "list1 = [\"Shubham\", 1, 3, 23765, \"Armaan\", \"Malik\", \"Himanshu\"]\n",
    "list1[5]                             # to access 5th element of the list"
   ]
  },
  {
   "cell_type": "code",
   "execution_count": 14,
   "id": "535ee995-6819-4bf5-9582-d50ab57ea4ed",
   "metadata": {},
   "outputs": [
    {
     "data": {
      "text/plain": [
       "23765"
      ]
     },
     "execution_count": 14,
     "metadata": {},
     "output_type": "execute_result"
    }
   ],
   "source": [
    "list1[3]                            # to access 3rd element of the list"
   ]
  },
  {
   "cell_type": "markdown",
   "id": "f7d74232-fa6a-476d-a1ae-bbdb0c354969",
   "metadata": {},
   "source": [
    "### Modify elements in a list\n",
    "We can modify elements in a list using Adding, Concatenation, Repetition and List Comprehension"
   ]
  },
  {
   "cell_type": "markdown",
   "id": "d0f1ca9e-1a1b-49ac-8c25-b191e44f9cb7",
   "metadata": {},
   "source": [
    "#### a. Adding"
   ]
  },
  {
   "cell_type": "code",
   "execution_count": 17,
   "id": "f68d3282-c470-41d9-a992-4b879d2ccdd0",
   "metadata": {},
   "outputs": [
    {
     "data": {
      "text/plain": [
       "['Apple', 'Banana', 'Guava']"
      ]
     },
     "execution_count": 17,
     "metadata": {},
     "output_type": "execute_result"
    }
   ],
   "source": [
    "list2 = [\"Apple\", \"Banana\"]\n",
    "list2.append(\"Guava\")                    # .append is used to add elements in a list\n",
    "list2"
   ]
  },
  {
   "cell_type": "code",
   "execution_count": 16,
   "id": "8ec1b92e-18c6-4a23-a6f1-43e3838a8b62",
   "metadata": {},
   "outputs": [
    {
     "data": {
      "text/plain": [
       "['we', 'humans', 'are', 'stars']"
      ]
     },
     "execution_count": 16,
     "metadata": {},
     "output_type": "execute_result"
    }
   ],
   "source": [
    "list3=[\"we\",\"are\",\"stars\"]\n",
    "list3.insert(1,\"humans\")                 # Insert the object before any index\n",
    "list3"
   ]
  },
  {
   "cell_type": "markdown",
   "id": "dd222972-507b-4065-b34e-a24e292165d9",
   "metadata": {},
   "source": [
    "#### b. Concatenation"
   ]
  },
  {
   "cell_type": "code",
   "execution_count": 18,
   "id": "4db92d0a-91b6-4b75-b8ff-959bd057e1f0",
   "metadata": {},
   "outputs": [
    {
     "data": {
      "text/plain": [
       "['a', 'b', 'c', '3', '4', '5']"
      ]
     },
     "execution_count": 18,
     "metadata": {},
     "output_type": "execute_result"
    }
   ],
   "source": [
    "list4=[\"a\",\"b\",\"c\"]\n",
    "list5=[\"3\",\"4\",\"5\"]\n",
    "list4+list5"
   ]
  },
  {
   "cell_type": "markdown",
   "id": "514a570d-3624-4c22-b9ae-2f9f2c0b3f6c",
   "metadata": {},
   "source": [
    "#### c. Repetition"
   ]
  },
  {
   "cell_type": "code",
   "execution_count": 20,
   "id": "10bd221c-9246-4590-bbbf-652c2c5287cc",
   "metadata": {},
   "outputs": [
    {
     "name": "stdout",
     "output_type": "stream",
     "text": [
      "I am good in mathematics\n",
      "I am good in mathematics\n",
      "I am good in mathematics\n",
      "\n"
     ]
    }
   ],
   "source": [
    "msg=\"I am good in mathematics\\n\"\n",
    "print(msg*3)"
   ]
  },
  {
   "cell_type": "markdown",
   "id": "68b3c77b-ce8d-4cbe-96ae-739d4b538c94",
   "metadata": {},
   "source": [
    "#### d. List Comprehension\n",
    "List comprehension is an easy to read, compact, and elegant way of creating a list from any existing iterable object. Basically, it's a simpler way to create a new list from the values in a list you already have."
   ]
  },
  {
   "cell_type": "code",
   "execution_count": 29,
   "id": "bc2598d3-53db-4769-8467-a08ca47ad820",
   "metadata": {},
   "outputs": [
    {
     "data": {
      "text/plain": [
       "[20, 40, 60, 80, 100]"
      ]
     },
     "execution_count": 29,
     "metadata": {},
     "output_type": "execute_result"
    }
   ],
   "source": [
    "prices=[10,20,30,40,50]\n",
    "doubled_price=[]\n",
    "for i in prices:\n",
    "    doubled_price.append(i*2)\n",
    "doubled_price"
   ]
  },
  {
   "cell_type": "markdown",
   "id": "26bb13cd-5f9a-4ae1-9485-b55b79d2e8ed",
   "metadata": {},
   "source": [
    "### Delete elements in a list\n",
    "We can delete elements in a list using .remove(), .clear() and .pop()"
   ]
  },
  {
   "cell_type": "code",
   "execution_count": 22,
   "id": "e6460797-d761-4d19-83b6-b5dd7b93a79d",
   "metadata": {},
   "outputs": [
    {
     "data": {
      "text/plain": [
       "['we', 'stars']"
      ]
     },
     "execution_count": 22,
     "metadata": {},
     "output_type": "execute_result"
    }
   ],
   "source": [
    "list3=[\"we\",\"are\",\"stars\"]\n",
    "list3.remove(\"are\")                       # it removes specific called element\n",
    "list3"
   ]
  },
  {
   "cell_type": "code",
   "execution_count": 23,
   "id": "9650ea02-7eca-43fb-a720-278787781651",
   "metadata": {},
   "outputs": [
    {
     "data": {
      "text/plain": [
       "['we', 'are', 'stars']"
      ]
     },
     "execution_count": 23,
     "metadata": {},
     "output_type": "execute_result"
    }
   ],
   "source": [
    "list3=[\"we\",\"are\",\"stars\"]\n",
    "list3"
   ]
  },
  {
   "cell_type": "code",
   "execution_count": 24,
   "id": "9a730ae5-ace8-4a27-ac24-cef8a442e4f4",
   "metadata": {},
   "outputs": [
    {
     "data": {
      "text/plain": [
       "['we', 'are']"
      ]
     },
     "execution_count": 24,
     "metadata": {},
     "output_type": "execute_result"
    }
   ],
   "source": [
    "list3.pop()                               # it removes the last element of the list\n",
    "list3"
   ]
  },
  {
   "cell_type": "code",
   "execution_count": 26,
   "id": "c101a59b-c52b-4aba-b249-3efe9bd39df1",
   "metadata": {},
   "outputs": [
    {
     "data": {
      "text/plain": [
       "[]"
      ]
     },
     "execution_count": 26,
     "metadata": {},
     "output_type": "execute_result"
    }
   ],
   "source": [
    "smart_list = [\"shubham\", \"has\", \"a\", \"decent\", \"character\"]\n",
    "smart_list.clear()                        # it will clear all the elements from the list and provide an empty list\n",
    "smart_list"
   ]
  },
  {
   "cell_type": "markdown",
   "id": "932e69e2-fd7d-494b-92af-4984868b7f4c",
   "metadata": {
    "jp-MarkdownHeadingCollapsed": true
   },
   "source": [
    "# 4. Compare and contrast tuples and lists with examples."
   ]
  },
  {
   "cell_type": "markdown",
   "id": "1db494a9-f65e-4a0a-b5e1-544b6b305e4e",
   "metadata": {},
   "source": [
    "### Comparison between List and Tuples"
   ]
  },
  {
   "cell_type": "markdown",
   "id": "0b20db00-602c-461b-bab2-754330b7a14c",
   "metadata": {},
   "source": [
    "#### >> List\n",
    "- Lists are mutable.\n",
    "- Slower due to dynamic size and mutability.\n",
    "- The list is better for performing operations, such as insertion and deletion.\n",
    "- Suitable for collection of items that may change.\n",
    "- Iterations can be slightly slower.\n",
    "- Lists are not hashable."
   ]
  },
  {
   "cell_type": "code",
   "execution_count": 37,
   "id": "63a960bf-4d10-49e4-abc3-c59e366c5afd",
   "metadata": {},
   "outputs": [
    {
     "name": "stdout",
     "output_type": "stream",
     "text": [
      "original_list ['st', 1, 2, 3, 'Item', 'orange']\n",
      "Modified_list ['Spices', 1, 2, 3, 'Item', 'orange']\n"
     ]
    }
   ],
   "source": [
    "# Lists are mutable\n",
    "grocery_list=[\"st\",1,2,3,\"Item\",\"orange\"]\n",
    "print(\"original_list\", grocery_list)\n",
    "grocery_list[0] = \"Spices\"\n",
    "print(\"Modified_list\", grocery_list)"
   ]
  },
  {
   "cell_type": "code",
   "execution_count": 42,
   "id": "1cc13831-2609-4b99-b44e-494648b5d836",
   "metadata": {},
   "outputs": [
    {
     "name": "stdout",
     "output_type": "stream",
     "text": [
      "size of list =  120\n",
      "size of tuple =  104\n"
     ]
    }
   ],
   "source": [
    "# It shows a difference between size of list and size of tuple\n",
    "# Since list have a large size and they are mutable so lists are slightly slower\n",
    "list = [1,2,3,4,5,6,7,8,9,0]\n",
    "tuple = (1,2,3,4,5,6,7,8,9,0)\n",
    "print('size of list = ',list.__sizeof__())\n",
    "print('size of tuple = ',tuple.__sizeof__())"
   ]
  },
  {
   "cell_type": "code",
   "execution_count": 44,
   "id": "35789934-0f93-4b56-936c-b9b2865eeb7b",
   "metadata": {},
   "outputs": [
    {
     "data": {
      "text/plain": [
       "['Apple', 'Banana', 'Orange']"
      ]
     },
     "execution_count": 44,
     "metadata": {},
     "output_type": "execute_result"
    }
   ],
   "source": [
    "# List is better for performing operations such as insertion and deletion\n",
    "list = [\"Apple\", \"Banana\"]\n",
    "list.append(\"Orange\")\n",
    "list"
   ]
  },
  {
   "cell_type": "code",
   "execution_count": 45,
   "id": "3c8d8b1d-58ff-4833-9e59-7eb149058dd4",
   "metadata": {},
   "outputs": [
    {
     "data": {
      "text/plain": [
       "['Apple', 'Orange']"
      ]
     },
     "execution_count": 45,
     "metadata": {},
     "output_type": "execute_result"
    }
   ],
   "source": [
    "list.remove(\"Banana\")\n",
    "list"
   ]
  },
  {
   "cell_type": "code",
   "execution_count": 105,
   "id": "a7b1e49c-f280-40d3-b461-61004d2e5bf8",
   "metadata": {},
   "outputs": [
    {
     "name": "stdin",
     "output_type": "stream",
     "text": [
      "Which season's fruit list you require summer/winter :  winter\n"
     ]
    },
    {
     "name": "stdout",
     "output_type": "stream",
     "text": [
      "Winter fruits are :  ['Apple', 'Banana', 'Pomegranate', 'Orange', 'Papaya']\n"
     ]
    }
   ],
   "source": [
    "# Suitable for collection of items that may change\n",
    "fruit_list = [\"Apple\", \"Mango\", \"Litchi\", \"Watermelon\", \"Papaya\"]\n",
    "season = input(\"Which season's fruit list you require summer/winter : \")\n",
    "if season == \"summer\" :\n",
    "    print(\"Summer fruits are : \", fruit_list)\n",
    "elif season == \"winter\":\n",
    "    fruit_list[1] = \"Banana\"\n",
    "    fruit_list[2] = \"Pomegranate\"\n",
    "    fruit_list[3] = \"Orange\"\n",
    "    print(\"Winter fruits are : \", fruit_list)\n",
    "else:\n",
    "    print(\"[ ]\")\n"
   ]
  },
  {
   "cell_type": "code",
   "execution_count": 72,
   "id": "3790926a-c912-4170-ba0b-8546b56f827e",
   "metadata": {},
   "outputs": [
    {
     "ename": "TypeError",
     "evalue": "unhashable type: 'list'",
     "output_type": "error",
     "traceback": [
      "\u001b[1;31m---------------------------------------------------------------------------\u001b[0m",
      "\u001b[1;31mTypeError\u001b[0m                                 Traceback (most recent call last)",
      "Cell \u001b[1;32mIn[72], line 3\u001b[0m\n\u001b[0;32m      1\u001b[0m \u001b[38;5;66;03m# Lists are not hashable\u001b[39;00m\n\u001b[0;32m      2\u001b[0m x \u001b[38;5;241m=\u001b[39m [\u001b[38;5;241m1\u001b[39m,\u001b[38;5;241m2\u001b[39m,\u001b[38;5;241m3\u001b[39m]\n\u001b[1;32m----> 3\u001b[0m y \u001b[38;5;241m=\u001b[39m [{x: \u001b[38;5;241m9\u001b[39m}]\n",
      "\u001b[1;31mTypeError\u001b[0m: unhashable type: 'list'"
     ]
    }
   ],
   "source": [
    "# Lists are not hashable\n",
    "x = [1,2,3]\n",
    "y = [{x: 9}]"
   ]
  },
  {
   "cell_type": "code",
   "execution_count": null,
   "id": "bf970478-b04d-4504-b911-8f8b552eb25f",
   "metadata": {},
   "outputs": [],
   "source": []
  },
  {
   "cell_type": "markdown",
   "id": "9d84a242-49a5-4818-a0b0-a872aa753dfc",
   "metadata": {},
   "source": [
    "#### >>Tuples\n",
    "- Tuples are immutable.\n",
    "- Faster due to static size and immutability.\n",
    "- A Tuple data type is appropriate for accessing the elements.\n",
    "- Ideal for fixed collection of items.\n",
    "- Iteration is fast due to immutability.\n",
    "- Tuples are hashable if they contain hashable elements, making them usable as dictionary keys."
   ]
  },
  {
   "cell_type": "code",
   "execution_count": 35,
   "id": "6ab2402b-3d3b-41c9-a188-0eb9ddf7ef4a",
   "metadata": {},
   "outputs": [
    {
     "ename": "TypeError",
     "evalue": "'tuple' object does not support item assignment",
     "output_type": "error",
     "traceback": [
      "\u001b[1;31m---------------------------------------------------------------------------\u001b[0m",
      "\u001b[1;31mTypeError\u001b[0m                                 Traceback (most recent call last)",
      "Cell \u001b[1;32mIn[35], line 2\u001b[0m\n\u001b[0;32m      1\u001b[0m t \u001b[38;5;241m=\u001b[39m (\u001b[38;5;124m\"\u001b[39m\u001b[38;5;124mrest\u001b[39m\u001b[38;5;124m\"\u001b[39m, \u001b[38;5;124m\"\u001b[39m\u001b[38;5;124msun\u001b[39m\u001b[38;5;124m\"\u001b[39m, \u001b[38;5;124m\"\u001b[39m\u001b[38;5;124mis\u001b[39m\u001b[38;5;124m\"\u001b[39m, \u001b[38;5;124m\"\u001b[39m\u001b[38;5;124munders\u001b[39m\u001b[38;5;124m\"\u001b[39m, \u001b[38;5;124m\"\u001b[39m\u001b[38;5;124mthe\u001b[39m\u001b[38;5;124m\"\u001b[39m, \u001b[38;5;124m\"\u001b[39m\u001b[38;5;124msky\u001b[39m\u001b[38;5;124m\"\u001b[39m)\n\u001b[1;32m----> 2\u001b[0m t[\u001b[38;5;241m0\u001b[39m] \u001b[38;5;241m=\u001b[39m \u001b[38;5;124m\"\u001b[39m\u001b[38;5;124mThe\u001b[39m\u001b[38;5;124m\"\u001b[39m\n\u001b[0;32m      3\u001b[0m t\n",
      "\u001b[1;31mTypeError\u001b[0m: 'tuple' object does not support item assignment"
     ]
    }
   ],
   "source": [
    "# Tuples are immutable\n",
    "t = (\"rest\", \"sun\", \"is\", \"unders\", \"the\", \"sky\")\n",
    "t[0] = \"The\"\n",
    "t"
   ]
  },
  {
   "cell_type": "code",
   "execution_count": 43,
   "id": "a8021526-62b3-4232-a36d-0ab0f5446237",
   "metadata": {},
   "outputs": [
    {
     "name": "stdout",
     "output_type": "stream",
     "text": [
      "size of list =  120\n",
      "size of tuple =  104\n"
     ]
    }
   ],
   "source": [
    "# It shows a difference between size of list and size of tuple\n",
    "# Since Tuple has static size and they are immutable so tuple are faster\n",
    "list = [1,2,3,4,5,6,7,8,9,0]\n",
    "tuple = (1,2,3,4,5,6,7,8,9,0)\n",
    "print('size of list = ',list.__sizeof__())\n",
    "print('size of tuple = ',tuple.__sizeof__())"
   ]
  },
  {
   "cell_type": "code",
   "execution_count": 46,
   "id": "c517131d-559b-479a-a961-76ebc27914d5",
   "metadata": {},
   "outputs": [
    {
     "data": {
      "text/plain": [
       "'stem'"
      ]
     },
     "execution_count": 46,
     "metadata": {},
     "output_type": "execute_result"
    }
   ],
   "source": [
    "# A tuple data type is appropriate for accessing and counting the elements\n",
    "t=(\"stem\",\"plant\",\"tree\",2, 3, 5,1)\n",
    "t[0]"
   ]
  },
  {
   "cell_type": "code",
   "execution_count": 48,
   "id": "5b1dc919-9fd2-459b-91fb-14cd80b63826",
   "metadata": {},
   "outputs": [
    {
     "data": {
      "text/plain": [
       "7"
      ]
     },
     "execution_count": 48,
     "metadata": {},
     "output_type": "execute_result"
    }
   ],
   "source": [
    "tuple1 = (\"stream\", 1, 1, 1, 1, 1, 1, 1, 2.2, 3)\n",
    "tuple1.count(1)"
   ]
  },
  {
   "cell_type": "code",
   "execution_count": 62,
   "id": "456695fd-a30d-47d5-a493-9fdde13cc08b",
   "metadata": {},
   "outputs": [
    {
     "name": "stdout",
     "output_type": "stream",
     "text": [
      "('Shubham', 'Viraj', 'Vihan', 'Amrit', 'Ayusman')\n",
      "('001', '002', '003', '004', '005')\n"
     ]
    }
   ],
   "source": [
    "# Ideal for fixed collection of items\n",
    "emp_names = (\"Shubham\", \"Viraj\", \"Vihan\", \"Amrit\", \"Ayusman\")\n",
    "emp_id = (\"001\", \"002\", \"003\", \"004\", \"005\")\n",
    "print(emp_names)\n",
    "print(emp_id)"
   ]
  },
  {
   "cell_type": "code",
   "execution_count": 70,
   "id": "445050b6-9ab6-45f2-b8fb-14fd526c054b",
   "metadata": {},
   "outputs": [
    {
     "name": "stdout",
     "output_type": "stream",
     "text": [
      "{(0, 0): 100, (1, 1): 200, (1, 0): 150, (0, 1): 125}\n"
     ]
    }
   ],
   "source": [
    "# Tuples are hashable if they contain hashable elements, making them usable as dictionary keys.\n",
    "coordinates = { (0,0) : 100, (1,1) : 200}\n",
    "coordinates[(1,0)] = 150\n",
    "coordinates[(0,1)] = 125\n",
    "print(coordinates)"
   ]
  },
  {
   "cell_type": "code",
   "execution_count": null,
   "id": "dd4301f0-c44b-428b-a910-ebe4c9ea8bd4",
   "metadata": {},
   "outputs": [],
   "source": []
  },
  {
   "cell_type": "markdown",
   "id": "ce513ed3-300c-46ea-9053-7cdf1ca0029e",
   "metadata": {
    "jp-MarkdownHeadingCollapsed": true
   },
   "source": [
    "# 5. Describe the key features of sets and provide examples of their use."
   ]
  },
  {
   "cell_type": "markdown",
   "id": "f03203ad-a8c2-4f20-af34-eaf2a987186f",
   "metadata": {},
   "source": [
    "### Key features of sets\n",
    "- Sets are unordered and unique collection of elements.\n",
    "- Sets are Mutable.\n",
    "- It doesn't allow any duplicate elements.\n",
    "- It is unordered and indexing will not work."
   ]
  },
  {
   "cell_type": "code",
   "execution_count": 98,
   "id": "7f05adf5-1a05-41c3-b8e8-4555a9c3af9a",
   "metadata": {},
   "outputs": [
    {
     "data": {
      "text/plain": [
       "{1, 2, 3, 4, 5, 'Ajay', 'Shubham', 'ajay', 'shubham'}"
      ]
     },
     "execution_count": 98,
     "metadata": {},
     "output_type": "execute_result"
    }
   ],
   "source": [
    "# Sets are unordered and unique collection of elements\n",
    "# It does not allow any duplicate element\n",
    "s = {1,2,1,2,3,4,3,4,5,\"Ajay\",\"ajay\",\"Shubham\",\"shubham\"}                     #only the single occurrence of the element is counted\n",
    "s"
   ]
  },
  {
   "cell_type": "code",
   "execution_count": 104,
   "id": "8cc9d53c-6fff-40a9-a1ce-5f7494516820",
   "metadata": {},
   "outputs": [
    {
     "data": {
      "text/plain": [
       "{1, 3, 4, 'Amrit', 'Shubham'}"
      ]
     },
     "execution_count": 104,
     "metadata": {},
     "output_type": "execute_result"
    }
   ],
   "source": [
    "# Sets are Mutable\n",
    "s = {1, 2, 3, 4, \"Amrit\", \"Shubham\"}                    \n",
    "s.remove(2)\n",
    "s"
   ]
  },
  {
   "cell_type": "code",
   "execution_count": 101,
   "id": "678ba3b2-52da-4859-a145-5330c906d919",
   "metadata": {},
   "outputs": [
    {
     "ename": "TypeError",
     "evalue": "'set' object does not support item assignment",
     "output_type": "error",
     "traceback": [
      "\u001b[1;31m---------------------------------------------------------------------------\u001b[0m",
      "\u001b[1;31mTypeError\u001b[0m                                 Traceback (most recent call last)",
      "Cell \u001b[1;32mIn[101], line 3\u001b[0m\n\u001b[0;32m      1\u001b[0m \u001b[38;5;66;03m# Sets are unordered and indexing will not work\u001b[39;00m\n\u001b[0;32m      2\u001b[0m s\u001b[38;5;241m=\u001b[39m{(\u001b[38;5;241m1\u001b[39m,\u001b[38;5;241m2\u001b[39m,\u001b[38;5;241m3\u001b[39m,\u001b[38;5;124m\"\u001b[39m\u001b[38;5;124mSt\u001b[39m\u001b[38;5;124m\"\u001b[39m),\u001b[38;5;241m45\u001b[39m,\u001b[38;5;241m2\u001b[39m,\u001b[38;5;241m3\u001b[39m,\u001b[38;5;241m4\u001b[39m,\u001b[38;5;124m'\u001b[39m\u001b[38;5;124m2\u001b[39m\u001b[38;5;124m'\u001b[39m}\n\u001b[1;32m----> 3\u001b[0m s[\u001b[38;5;241m1\u001b[39m] \u001b[38;5;241m=\u001b[39m \u001b[38;5;241m23\u001b[39m\n",
      "\u001b[1;31mTypeError\u001b[0m: 'set' object does not support item assignment"
     ]
    }
   ],
   "source": [
    "# Sets are unordered and indexing will not work\n",
    "s={(1,2,3,\"St\"),45,2,3,4,'2'}\n",
    "s[1] = 23"
   ]
  },
  {
   "cell_type": "markdown",
   "id": "c9a553dc-bb10-47ec-bde4-139f59fbe0db",
   "metadata": {
    "jp-MarkdownHeadingCollapsed": true
   },
   "source": [
    "# 6. Discuss the use cases of Tuples and Sets in Python programming"
   ]
  },
  {
   "cell_type": "markdown",
   "id": "69543719-92f4-4518-a770-49ffc2787808",
   "metadata": {},
   "source": [
    "### Use case of Tuple >> Ideal for fixed collection of items"
   ]
  },
  {
   "cell_type": "code",
   "execution_count": 111,
   "id": "11ac9dfd-aeb6-4b60-af1f-4a30eb05c6ba",
   "metadata": {},
   "outputs": [
    {
     "name": "stdout",
     "output_type": "stream",
     "text": [
      "('Shubham', 'Viraj', 'Vihan', 'Amrit', 'Ayusman')\n",
      "('001', '002', '003', '004', '005')\n"
     ]
    }
   ],
   "source": [
    "emp_names = (\"Shubham\", \"Viraj\", \"Vihan\", \"Amrit\", \"Ayusman\")\n",
    "emp_id = (\"001\", \"002\", \"003\", \"004\", \"005\")\n",
    "print(emp_names)\n",
    "print(emp_id)"
   ]
  },
  {
   "cell_type": "markdown",
   "id": "f5d2b93e-eb8e-42b1-b0b3-d4ce73d53586",
   "metadata": {},
   "source": [
    "### Commonly use cases of Sets >> Sets operation\n",
    "- Union Element (A|B)  >> Combine elements from two sets excluding duplicates\n",
    "- Intersection (A&B)   >> Only common elements between sets\n",
    "- Difference           >> return the elements that is present in first set and not in second\n",
    "- Symmetric Difference >> returns elements that are present in either of sets but not in both"
   ]
  },
  {
   "cell_type": "code",
   "execution_count": 112,
   "id": "792c6972-c29e-4f6f-b2d7-a906af771498",
   "metadata": {},
   "outputs": [
    {
     "data": {
      "text/plain": [
       "{'hiking', 'hobbies', 'reading'}"
      ]
     },
     "execution_count": 112,
     "metadata": {},
     "output_type": "execute_result"
    }
   ],
   "source": [
    "s1 = {\"hobbies\", \"hiking\", \"reading\"}\n",
    "s2 = {\"coding\", \"photography\", \"reading\"}\n",
    "s1"
   ]
  },
  {
   "cell_type": "code",
   "execution_count": 113,
   "id": "a87797ac-0dfd-4ab4-b274-0e800a9dfc38",
   "metadata": {},
   "outputs": [
    {
     "data": {
      "text/plain": [
       "{'coding', 'hiking', 'hobbies', 'photography', 'reading'}"
      ]
     },
     "execution_count": 113,
     "metadata": {},
     "output_type": "execute_result"
    }
   ],
   "source": [
    "# Union combine all the elements\n",
    "s1 | s2"
   ]
  },
  {
   "cell_type": "code",
   "execution_count": 114,
   "id": "45eeb4ad-98df-42dc-bd7d-da9a7460a8eb",
   "metadata": {},
   "outputs": [
    {
     "data": {
      "text/plain": [
       "{'reading'}"
      ]
     },
     "execution_count": 114,
     "metadata": {},
     "output_type": "execute_result"
    }
   ],
   "source": [
    "# Intersection >> common elements\n",
    "s1 & s2"
   ]
  },
  {
   "cell_type": "code",
   "execution_count": 115,
   "id": "2b4a4b3c-578d-4cda-b01a-18b7e7ca4599",
   "metadata": {},
   "outputs": [
    {
     "data": {
      "text/plain": [
       "{'hiking', 'hobbies'}"
      ]
     },
     "execution_count": 115,
     "metadata": {},
     "output_type": "execute_result"
    }
   ],
   "source": [
    "#Difference\n",
    "s1 - s2"
   ]
  },
  {
   "cell_type": "code",
   "execution_count": 116,
   "id": "cfc57576-5577-4fb9-8faf-31ff2867e3d6",
   "metadata": {},
   "outputs": [
    {
     "data": {
      "text/plain": [
       "{'coding', 'hiking', 'hobbies', 'photography'}"
      ]
     },
     "execution_count": 116,
     "metadata": {},
     "output_type": "execute_result"
    }
   ],
   "source": [
    "# Symmetric difference >> common part is removed\n",
    "s1 ^ s2"
   ]
  },
  {
   "cell_type": "markdown",
   "id": "75cdac4c-5e46-4cd8-86cd-696b47e458f7",
   "metadata": {
    "jp-MarkdownHeadingCollapsed": true
   },
   "source": [
    "# 7. Describe how to add, modify and delete items in a dictonary with examples."
   ]
  },
  {
   "cell_type": "markdown",
   "id": "29b2f6e3-41a0-4fae-bb64-b44cab1a0ae1",
   "metadata": {},
   "source": [
    "### Addition of elements in a dictionary"
   ]
  },
  {
   "cell_type": "code",
   "execution_count": 117,
   "id": "f55289ba-3806-4023-aacc-47cb2a5b6fd9",
   "metadata": {},
   "outputs": [
    {
     "data": {
      "text/plain": [
       "{'name': 'Shubham',\n",
       " 'email': 'shubhamtyagi7846@mail.com',\n",
       " 'contact': 9627120463,\n",
       " 'address': 'Ghaziabad'}"
      ]
     },
     "execution_count": 117,
     "metadata": {},
     "output_type": "execute_result"
    }
   ],
   "source": [
    "d = {\"name\" : \"Shubham\", \"email\" : \"shubhamtyagi7846@mail.com\", \"contact\" : 9627120463}\n",
    "d[\"address\"] = \"Ghaziabad\"\n",
    "d"
   ]
  },
  {
   "cell_type": "markdown",
   "id": "2e1dda5b-01e1-49bd-9647-fd1e080c8875",
   "metadata": {},
   "source": [
    "### Modify element in a dictionary\n",
    " .copy() and .update() are used to modify the dictionary elements"
   ]
  },
  {
   "cell_type": "code",
   "execution_count": 119,
   "id": "75d8df0b-9573-479a-88f3-7e5d306b1ca1",
   "metadata": {},
   "outputs": [
    {
     "data": {
      "text/plain": [
       "{'course': 'ds'}"
      ]
     },
     "execution_count": 119,
     "metadata": {},
     "output_type": "execute_result"
    }
   ],
   "source": [
    "d1 = {\"course\" : \"ds\"}\n",
    "d1"
   ]
  },
  {
   "cell_type": "code",
   "execution_count": 120,
   "id": "23946423-a9fd-4fa2-9c36-44b1a63bbf8b",
   "metadata": {},
   "outputs": [
    {
     "data": {
      "text/plain": [
       "{'name': 'Shubham', 'contact': 9627120463, 'course': 'ds'}"
      ]
     },
     "execution_count": 120,
     "metadata": {},
     "output_type": "execute_result"
    }
   ],
   "source": [
    "d.update(d1)                              # to update a dictionary with some other dictionary\n",
    "d"
   ]
  },
  {
   "cell_type": "code",
   "execution_count": 126,
   "id": "0ddfc04b-7dd2-4126-ad82-a1bcee400649",
   "metadata": {},
   "outputs": [
    {
     "data": {
      "text/plain": [
       "{'fruit1': 'Apple', 'fruit2': 'Orange', 'fruit3': 'Guava'}"
      ]
     },
     "execution_count": 126,
     "metadata": {},
     "output_type": "execute_result"
    }
   ],
   "source": [
    "d = {\"fruit1\" : \"Apple\", \"fruit2\" : \"Orange\", \"fruit3\" : \"Guava\"}\n",
    "d1 = {\"veg1\" : \"potato\", \"veg2\" : \"tomato\"}\n",
    "d1 = d.copy()                  # it will copy one dictionary into other dictionary and keeps the first one remains unchanged\n",
    "d1"
   ]
  },
  {
   "cell_type": "code",
   "execution_count": 125,
   "id": "fe2bf2a0-89ab-41f0-9c55-b2dc9a04e418",
   "metadata": {},
   "outputs": [
    {
     "data": {
      "text/plain": [
       "{'fruit1': 'Apple', 'fruit2': 'Orange', 'fruit3': 'Guava'}"
      ]
     },
     "execution_count": 125,
     "metadata": {},
     "output_type": "execute_result"
    }
   ],
   "source": [
    "d"
   ]
  },
  {
   "cell_type": "markdown",
   "id": "4945df9e-4df0-4fd1-98d8-06a8987e3720",
   "metadata": {},
   "source": [
    "### Delete elements from the dictionary"
   ]
  },
  {
   "cell_type": "code",
   "execution_count": 127,
   "id": "4743812c-a6bd-4b4b-95d1-503167edfb5d",
   "metadata": {},
   "outputs": [
    {
     "data": {
      "text/plain": [
       "{'name': 'Shubham', 'contact': 9627120463}"
      ]
     },
     "execution_count": 127,
     "metadata": {},
     "output_type": "execute_result"
    }
   ],
   "source": [
    "d = {\"name\" : \"Shubham\", \"email\" : \"shubhamtyagi7846@mail.com\", \"contact\" : 9627120463}\n",
    "d.pop(\"email\")                           # it will delete the desired element from the dictionary\n",
    "d"
   ]
  },
  {
   "cell_type": "markdown",
   "id": "3369b3cd-4ecf-49a7-b50c-c0e754ad15e2",
   "metadata": {
    "jp-MarkdownHeadingCollapsed": true
   },
   "source": [
    "# 8. Discuss the importance of dictionary keys being immutable and provide examples."
   ]
  },
  {
   "cell_type": "markdown",
   "id": "659e7ce8-82dd-4e32-855a-52e891a00401",
   "metadata": {},
   "source": [
    "### Immutability is essential for keys because it ensures that the dictionary can efficiently look up values based on their keys. If a key was mutable, its hash value could change, making it impossible to find the associated value in the dictionary."
   ]
  },
  {
   "cell_type": "code",
   "execution_count": 128,
   "id": "f96535f7-81eb-4197-aaaf-7d8ede55ffc0",
   "metadata": {},
   "outputs": [
    {
     "ename": "TypeError",
     "evalue": "unhashable type: 'list'",
     "output_type": "error",
     "traceback": [
      "\u001b[1;31m---------------------------------------------------------------------------\u001b[0m",
      "\u001b[1;31mTypeError\u001b[0m                                 Traceback (most recent call last)",
      "Cell \u001b[1;32mIn[128], line 2\u001b[0m\n\u001b[0;32m      1\u001b[0m \u001b[38;5;66;03m# A code to observe if dictionary keys are mutable\u001b[39;00m\n\u001b[1;32m----> 2\u001b[0m mydict \u001b[38;5;241m=\u001b[39m { [\u001b[38;5;241m1\u001b[39m, \u001b[38;5;241m2\u001b[39m]: \u001b[38;5;124m'\u001b[39m\u001b[38;5;124m12\u001b[39m\u001b[38;5;124m'\u001b[39m }\n\u001b[0;32m      3\u001b[0m \u001b[38;5;28mprint\u001b[39m(mydict[[\u001b[38;5;241m1\u001b[39m, \u001b[38;5;241m2\u001b[39m]])\n",
      "\u001b[1;31mTypeError\u001b[0m: unhashable type: 'list'"
     ]
    }
   ],
   "source": [
    "# A code to observe if dictionary keys are mutable\n",
    "mydict = { [1, 2]: '12' }\n",
    "print(mydict[[1, 2]])"
   ]
  },
  {
   "cell_type": "markdown",
   "id": "0b2a806b-2a67-4b43-b022-e5a4b7088292",
   "metadata": {},
   "source": [
    "### An example to show importance of dictionary keys being immutable\n",
    "The secret of dictionaries' ruthless efficiency is that for each item, the dictionary calculates a hash (just an integer, really) of the key based on its content, and uses that to store the item at a specific location in memory. Then, when you go looking for the item, it calculates the hash of the key's content again, says to itself \"okay, \"python\", that hashes to 7036520087640895475 ... yeah, I know where I must have put that, then\", and goes straight to the right memory location to find it. So this time, it only had to do a hundred thousand checks rather than five billion.\n",
    "\n",
    "It's kinda like having all your CDs neatly alphabetised on shelves, rather than stacked randomly out of their cases on top of your speakers. Dictionaries know where it's at, I'm telling you.\n",
    "\n",
    "But there's a price to pay for dictionaries' ability to keep it together. Remember when I said that the dictionary calculates a hash based on the item's content? Well, what happens if that content changes? For immutable objects that's not a problem - their content can't change - but mutable objects, by definition, can change their contents, and when they do, their hash (if they even have one) will change too. Which is cool, obviously, not everyone wants to be put in a box, I get that, but if the hash has changed, there's no way for the dictionary to work out where it put the thing.\n",
    "\n",
    "It's as though Joy Division changed their name to New Order, and now you've got no idea where you put that 12\" remix of Blue Monday. It's just not gonna work.\n",
    "\n",
    "So, dictionaries have a rule: if you want to be a key, don't go changing."
   ]
  }
 ],
 "metadata": {
  "kernelspec": {
   "display_name": "Python 3 (ipykernel)",
   "language": "python",
   "name": "python3"
  },
  "language_info": {
   "codemirror_mode": {
    "name": "ipython",
    "version": 3
   },
   "file_extension": ".py",
   "mimetype": "text/x-python",
   "name": "python",
   "nbconvert_exporter": "python",
   "pygments_lexer": "ipython3",
   "version": "3.12.4"
  }
 },
 "nbformat": 4,
 "nbformat_minor": 5
}
